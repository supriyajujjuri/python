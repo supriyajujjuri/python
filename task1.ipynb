{
  "nbformat": 4,
  "nbformat_minor": 0,
  "metadata": {
    "colab": {
      "provenance": [],
      "include_colab_link": true
    },
    "kernelspec": {
      "name": "python3",
      "display_name": "Python 3"
    },
    "language_info": {
      "name": "python"
    }
  },
  "cells": [
    {
      "cell_type": "markdown",
      "metadata": {
        "id": "view-in-github",
        "colab_type": "text"
      },
      "source": [
        "<a href=\"https://colab.research.google.com/github/supriyajujjuri/python/blob/main/task1.ipynb\" target=\"_parent\"><img src=\"https://colab.research.google.com/assets/colab-badge.svg\" alt=\"Open In Colab\"/></a>"
      ]
    },
    {
      "cell_type": "markdown",
      "source": [
        "#How do I randomly select rows from NumPy array?\n",
        "\n",
        "create an array of 50 and reshape it into 5 rows and 10 columns\n",
        "\n"
      ],
      "metadata": {
        "id": "MLFjUYQ-gbPz"
      }
    },
    {
      "cell_type": "code",
      "execution_count": null,
      "metadata": {
        "id": "I_cvz9Qof84o"
      },
      "outputs": [],
      "source": []
    },
    {
      "cell_type": "code",
      "source": [],
      "metadata": {
        "id": "Oh3prJzUg4uu"
      },
      "execution_count": null,
      "outputs": []
    },
    {
      "cell_type": "markdown",
      "source": [
        "#Convert Numpy array to JSON\n",
        "\n",
        "Array to JSON"
      ],
      "metadata": {
        "id": "X9o0CmhFg3Gv"
      }
    },
    {
      "cell_type": "code",
      "source": [],
      "metadata": {
        "id": "QVBmsQGhg-Ah"
      },
      "execution_count": null,
      "outputs": []
    },
    {
      "cell_type": "code",
      "source": [],
      "metadata": {
        "id": "cLbw6qwXg-bV"
      },
      "execution_count": null,
      "outputs": []
    },
    {
      "cell_type": "markdown",
      "source": [
        "#How do you replace items that satisfy a condition with another value in Numpy array?\n",
        "\n",
        "Replace all elements which are greater than 30 to 0\n",
        "\n",
        "input:- [49, 7, 44, 27, 13, 35, 71]"
      ],
      "metadata": {
        "id": "ciyvUsVdg-7Q"
      }
    },
    {
      "cell_type": "code",
      "source": [],
      "metadata": {
        "id": "geP-DwUMhNfJ"
      },
      "execution_count": null,
      "outputs": []
    },
    {
      "cell_type": "code",
      "source": [],
      "metadata": {
        "id": "PsUHsfxWhNtt"
      },
      "execution_count": null,
      "outputs": []
    },
    {
      "cell_type": "markdown",
      "source": [
        "#How to count frequency of unique values in a NumPy array in Python?\n",
        "\n",
        "Find number of times a value appears in the list\n",
        "\n",
        "sample input:- [9, 7, 4, 7, 3, 5, 9]"
      ],
      "metadata": {
        "id": "_iy4dz-2hOLf"
      }
    },
    {
      "cell_type": "code",
      "source": [],
      "metadata": {
        "id": "GkdtUHIKheUy"
      },
      "execution_count": null,
      "outputs": []
    },
    {
      "cell_type": "code",
      "source": [],
      "metadata": {
        "id": "qc53JTyehep1"
      },
      "execution_count": null,
      "outputs": []
    },
    {
      "cell_type": "markdown",
      "source": [
        "#read the data from the group\n",
        "\n",
        "explore the data\n",
        "\n",
        "1. check for null values\n",
        "2. check for duplicate values\n",
        "3. check for dtype corrections\n",
        "4. rename the columns date and time with \"Date\"  and \"Time\n",
        "5. By Using the iloc print 0:5 rows and 1,3,5 column indexes\n",
        "6. convert df[\"stop_datetime\"] to to_datetime format"
      ],
      "metadata": {
        "id": "__FWFTXih_dt"
      }
    },
    {
      "cell_type": "code",
      "source": [],
      "metadata": {
        "id": "B7eTyBF4h2TN"
      },
      "execution_count": null,
      "outputs": []
    }
  ]
}