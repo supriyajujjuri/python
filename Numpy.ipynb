{
  "nbformat": 4,
  "nbformat_minor": 0,
  "metadata": {
    "colab": {
      "provenance": [],
      "authorship_tag": "ABX9TyN76zCMoXsyXbAJ7gIguqop",
      "include_colab_link": true
    },
    "kernelspec": {
      "name": "python3",
      "display_name": "Python 3"
    },
    "language_info": {
      "name": "python"
    }
  },
  "cells": [
    {
      "cell_type": "markdown",
      "metadata": {
        "id": "view-in-github",
        "colab_type": "text"
      },
      "source": [
        "<a href=\"https://colab.research.google.com/github/supriyajujjuri/python/blob/main/Numpy.ipynb\" target=\"_parent\"><img src=\"https://colab.research.google.com/assets/colab-badge.svg\" alt=\"Open In Colab\"/></a>"
      ]
    },
    {
      "cell_type": "markdown",
      "source": [
        "**Numpy Basics**"
      ],
      "metadata": {
        "id": "TxpDF5__BV2h"
      }
    },
    {
      "cell_type": "code",
      "execution_count": null,
      "metadata": {
        "id": "hKEOExCEAq8s"
      },
      "outputs": [],
      "source": [
        "# what is Numpy?----> Num + py -----> Numpy vs Pyspark\n",
        "#core library for scientific computing in python\n",
        "# the central object in Numpy is \"Numpy Array's\"\n",
        "# what is Numpy array?\n",
        "\"\"\" High performance, multi dimenstional data structure object whics is designed specifically to perform maths operations\"\"\""
      ]
    },
    {
      "cell_type": "code",
      "source": [
        "# How many types array's do we have?\n",
        "#1D--> 0 columns and presence of rows(axis = 0)\n",
        "#2D--> tabular data where it has both rows and columns\n",
        "#3D--> it is multi dimensional data structure where it has axis = 0, axis = 1, and axis = 2"
      ],
      "metadata": {
        "id": "-uWcVzCjFmaB"
      },
      "execution_count": null,
      "outputs": []
    },
    {
      "cell_type": "code",
      "source": [
        "#what are all different use cases of numpy?\n",
        "\"\"\" 1. dot product/ inner product\n",
        "    2. matrix multiplication\n",
        "    3. element wise matrix product\n",
        "    4. solving the linear systems\n",
        "    5. inverse\n",
        "    6. determinent\n",
        "    7. choose the random numbers\n",
        "    8. statistics\"\"\""
      ],
      "metadata": {
        "id": "83-pxK_-IH1i"
      },
      "execution_count": null,
      "outputs": []
    },
    {
      "cell_type": "code",
      "source": [
        "# installation of numpy\n",
        "!pip install numpy"
      ],
      "metadata": {
        "colab": {
          "base_uri": "https://localhost:8080/"
        },
        "id": "eDFoiAyBIxS7",
        "outputId": "58daf89f-2a63-4006-c224-ace42b7d4d46"
      },
      "execution_count": null,
      "outputs": [
        {
          "output_type": "stream",
          "name": "stdout",
          "text": [
            "Requirement already satisfied: numpy in /usr/local/lib/python3.10/dist-packages (1.26.4)\n"
          ]
        }
      ]
    },
    {
      "cell_type": "code",
      "source": [
        "#import numpy\n",
        "import numpy as np"
      ],
      "metadata": {
        "id": "-2oB5gX7JU-u"
      },
      "execution_count": null,
      "outputs": []
    },
    {
      "cell_type": "code",
      "source": [
        "# how can we check the version of numpy\n",
        "np.__version__"
      ],
      "metadata": {
        "colab": {
          "base_uri": "https://localhost:8080/",
          "height": 35
        },
        "id": "p3JvbzJaJbml",
        "outputId": "52552b5c-ccb2-454e-b173-00b60ffbb3bc"
      },
      "execution_count": null,
      "outputs": [
        {
          "output_type": "execute_result",
          "data": {
            "text/plain": [
              "'1.26.4'"
            ],
            "application/vnd.google.colaboratory.intrinsic+json": {
              "type": "string"
            }
          },
          "metadata": {},
          "execution_count": 4
        }
      ]
    },
    {
      "cell_type": "markdown",
      "source": [
        "central object is array"
      ],
      "metadata": {
        "id": "cmPVcn3UKFSr"
      }
    },
    {
      "cell_type": "code",
      "source": [
        "l1 = [1,2,3,4]\n",
        "a = np.array(l1)\n",
        "print(a)\n",
        "print(l1)\n",
        "b = np.array([1,2,3,4,5,6])\n",
        "print(b)\n",
        "#difference between list and array?\n",
        "#list-->[]-->ordered,mutable,allows duplicates\n",
        "#array-->[]--> ordered,immutable, allows the duplicates"
      ],
      "metadata": {
        "id": "HRMpdFaOKEeX"
      },
      "execution_count": null,
      "outputs": []
    },
    {
      "cell_type": "code",
      "source": [
        "f = np.array([1,2,3,4,5])\n",
        "print(f.shape)"
      ],
      "metadata": {
        "colab": {
          "base_uri": "https://localhost:8080/"
        },
        "id": "9zIKiUuadNks",
        "outputId": "7bf56d68-7034-43e1-abd6-98a59d5d8b23"
      },
      "execution_count": null,
      "outputs": [
        {
          "output_type": "stream",
          "name": "stdout",
          "text": [
            "(5,)\n"
          ]
        }
      ]
    },
    {
      "cell_type": "code",
      "source": [
        "a = np.array([1,2,3,4])\n",
        "print(a)\n",
        "# i want to know the shape of the array\n",
        "a.shape  #-->(count_rows,count_columns)\n",
        "# i want to know element data types in above array?\n",
        "a.dtype\n",
        "# i want to know the dimensionally of the array's?\n",
        "a.ndim\n",
        "# i want to know total no of elements in array?\n",
        "a.size\n",
        "# i want to know the size in bytes, of each element?\n",
        "a.itemsize"
      ],
      "metadata": {
        "id": "PRHZ42eNKuFa"
      },
      "execution_count": null,
      "outputs": []
    },
    {
      "cell_type": "code",
      "source": [
        "import numpy as np\n",
        "b = np.array([2,3,4,5,6])\n",
        "b.dtype\n",
        "b.ndim\n",
        "b.size\n",
        "b.itemsize"
      ],
      "metadata": {
        "colab": {
          "base_uri": "https://localhost:8080/"
        },
        "id": "GMFT5TLaVmrV",
        "outputId": "d8be889e-faa0-45cf-9f61-4519679c2041"
      },
      "execution_count": null,
      "outputs": [
        {
          "output_type": "execute_result",
          "data": {
            "text/plain": [
              "8"
            ]
          },
          "metadata": {},
          "execution_count": 2
        }
      ]
    },
    {
      "cell_type": "markdown",
      "source": [
        "essential methods in array"
      ],
      "metadata": {
        "id": "e9onFbGrKy2K"
      }
    },
    {
      "cell_type": "code",
      "source": [
        "b  = np.array([1,2,3])\n",
        "#access the elements by using the index position numbers\n",
        "print(b[0])\n",
        "print(b[0:3])\n",
        "print(b[::-1])\n",
        "print(b[:])   # default indexing [start[0]:end n+1: step 1]\n",
        "print(b[::])"
      ],
      "metadata": {
        "id": "KOi_f8yXHyw7"
      },
      "execution_count": null,
      "outputs": []
    },
    {
      "cell_type": "code",
      "source": [
        "# i want to know the sum of elements in the array\n",
        "print(sum(b))"
      ],
      "metadata": {
        "id": "d8tKUFIKLabG"
      },
      "execution_count": null,
      "outputs": []
    },
    {
      "cell_type": "code",
      "source": [
        "h = np.array([1,2,3,4,5,6,7,8,9])\n",
        "#print the sum array h\n",
        "print(sum(h))\n",
        "print(h.sum())\n",
        "#find the mean the of the array \"h\"\n",
        "print(h.mean())\n",
        "#find the min number in array h\n",
        "print(h.min())\n",
        "#find the max number in the array h\n",
        "print(h.max())\n",
        "\"\"\" a = [\"cat\",\"dog\",\"cat\"]\n",
        "import pandas as pd\n",
        "df = pd.dataframe(a)\n",
        "df.mode()\"\"\""
      ],
      "metadata": {
        "id": "QLH91FKwLhVF"
      },
      "execution_count": null,
      "outputs": []
    },
    {
      "cell_type": "code",
      "source": [
        "l = [1,2,3,4,5,6,7,8,9]\n",
        "print(sum(l))\n",
        "#print(l.sum())   #attrinute error: \"list\" object has no attribute \"sum\"\n",
        "l.append(10)\n",
        "l"
      ],
      "metadata": {
        "id": "UMTtJ4byMTQU",
        "colab": {
          "base_uri": "https://localhost:8080/"
        },
        "outputId": "95074d44-a660-48ff-9d44-3aa1a5cdb0d0"
      },
      "execution_count": null,
      "outputs": [
        {
          "output_type": "stream",
          "name": "stdout",
          "text": [
            "45\n"
          ]
        },
        {
          "output_type": "execute_result",
          "data": {
            "text/plain": [
              "[1, 2, 3, 4, 5, 6, 7, 8, 9, 10]"
            ]
          },
          "metadata": {},
          "execution_count": 10
        }
      ]
    },
    {
      "cell_type": "code",
      "source": [
        "a = np.array([1,2,3,4,1,2,3,4,1])\n",
        "print(dir(a))\n",
        "#Note:- array's don't have mode and median"
      ],
      "metadata": {
        "id": "W3hMd6Z1M0PQ"
      },
      "execution_count": null,
      "outputs": []
    },
    {
      "cell_type": "markdown",
      "source": [
        "Arrays vs list"
      ],
      "metadata": {
        "id": "qhff-QsPNDMc"
      }
    },
    {
      "cell_type": "code",
      "source": [
        "# add new items in the list by using append method\n",
        "l = [1,2,3,4,5,6,7,8,9]\n",
        "l.append(10)\n",
        "l"
      ],
      "metadata": {
        "id": "ZeO8sjg9NC06"
      },
      "execution_count": null,
      "outputs": []
    },
    {
      "cell_type": "code",
      "source": [
        "# add new item to the array\n",
        "a = np.array([1,2,3])\n",
        "a.append(4)  # Attribute error: \"numpy. ndarry\" object has no attribute \"append\"\n",
        "a"
      ],
      "metadata": {
        "id": "RCYSys21NQ_R"
      },
      "execution_count": null,
      "outputs": []
    },
    {
      "cell_type": "code",
      "source": [
        "# replace items\n",
        "a[0] = 5\n",
        "print(a)"
      ],
      "metadata": {
        "id": "r7GxyBUZNo9R"
      },
      "execution_count": null,
      "outputs": []
    },
    {
      "cell_type": "code",
      "source": [
        "#Note:- array's are immutable where in arrys we can replace the items but we can not add or remove in arrays\n",
        "#so the array's are having fixed memory\n",
        "#MISD---> multiple input single destination"
      ],
      "metadata": {
        "id": "hjJnNIIrNwAK"
      },
      "execution_count": null,
      "outputs": []
    },
    {
      "cell_type": "code",
      "source": [
        "# how can we add items in array?\n",
        "a = np.array([1,2,3])\n",
        "b = np.append(a,4)\n",
        "print(b)"
      ],
      "metadata": {
        "id": "rdc5OfLTPnGa"
      },
      "execution_count": null,
      "outputs": []
    },
    {
      "cell_type": "code",
      "source": [
        "arr = np.array([2,4,8])\n",
        "c = np.append(arr,10)\n",
        "print(c)"
      ],
      "metadata": {
        "colab": {
          "base_uri": "https://localhost:8080/"
        },
        "id": "K14svffkX4rz",
        "outputId": "2780a6aa-19cb-4220-bfe3-48f676f1a2ed"
      },
      "execution_count": null,
      "outputs": [
        {
          "output_type": "stream",
          "name": "stdout",
          "text": [
            "[ 2  4  8 10]\n"
          ]
        }
      ]
    },
    {
      "cell_type": "code",
      "source": [
        "name = np.array(['supriya','deepika','uma'])\n",
        "d = np.append(name,'narayana')\n",
        "print(d)"
      ],
      "metadata": {
        "colab": {
          "base_uri": "https://localhost:8080/"
        },
        "id": "A-JoyY70Zmme",
        "outputId": "eb404481-33d5-4a92-9afb-f069f983f7c8"
      },
      "execution_count": null,
      "outputs": [
        {
          "output_type": "stream",
          "name": "stdout",
          "text": [
            "['supriya' 'deepika' 'uma' 'narayana']\n"
          ]
        }
      ]
    },
    {
      "cell_type": "code",
      "source": [
        "e = [1,2,3,4]+np.array(1)\n",
        "print(e)"
      ],
      "metadata": {
        "colab": {
          "base_uri": "https://localhost:8080/"
        },
        "id": "huxLp1ycaIoc",
        "outputId": "b5adac17-f3f3-424f-f454-1b2209283d1a"
      },
      "execution_count": null,
      "outputs": [
        {
          "output_type": "stream",
          "name": "stdout",
          "text": [
            "[2 3 4 5]\n"
          ]
        }
      ]
    },
    {
      "cell_type": "code",
      "source": [
        "c = b+np.array(5)\n",
        "#single number array is adding with each other and every element in array is known as \"Broad casting \" method\n",
        "print(c)"
      ],
      "metadata": {
        "id": "PF0LSktKQGHO",
        "colab": {
          "base_uri": "https://localhost:8080/"
        },
        "outputId": "88b523d3-77ae-4332-d8ed-5132252a74e2"
      },
      "execution_count": null,
      "outputs": [
        {
          "output_type": "stream",
          "name": "stdout",
          "text": [
            "[6 7 8 9]\n"
          ]
        }
      ]
    },
    {
      "cell_type": "code",
      "source": [
        "#vector addition: adding two array having equal number of elements and same dimensions is known vector addition\n",
        "a = np.array([1,2,3])\n",
        "b = np.array([4,5,6])\n",
        "print(a+b)\n",
        "print(a*b)"
      ],
      "metadata": {
        "id": "9VPv7-FMR2ZA"
      },
      "execution_count": null,
      "outputs": []
    },
    {
      "cell_type": "code",
      "source": [
        "l = [1,2,3]\n",
        "#multiple of 2\n",
        "for i in l:\n",
        "  print(i*2,end=\" \")"
      ],
      "metadata": {
        "id": "lE2oxlJNSsYU"
      },
      "execution_count": null,
      "outputs": []
    },
    {
      "cell_type": "code",
      "source": [
        "print(a*2)"
      ],
      "metadata": {
        "id": "9KUQa87pS7Lo"
      },
      "execution_count": null,
      "outputs": []
    },
    {
      "cell_type": "code",
      "source": [
        "#find the sqrt for arry's\n",
        "print(a**0.5)"
      ],
      "metadata": {
        "id": "Or2sXtrKToG5"
      },
      "execution_count": null,
      "outputs": []
    },
    {
      "cell_type": "code",
      "source": [
        "a = ['apple',a,5.8,4+6j]\n",
        "b =np.array(a)\n",
        "print(b)"
      ],
      "metadata": {
        "id": "XaJu7HZhT3hg"
      },
      "execution_count": null,
      "outputs": []
    },
    {
      "cell_type": "code",
      "source": [
        "b = [2+4j,5+6j]\n",
        "c = np.array(b)\n",
        "d = np.insert(b,2,5+6j)\n",
        "print(d)"
      ],
      "metadata": {
        "id": "e2aLYkHhUMEt",
        "colab": {
          "base_uri": "https://localhost:8080/"
        },
        "outputId": "c43ca624-33db-4d83-d6d5-35841838f097"
      },
      "execution_count": null,
      "outputs": [
        {
          "output_type": "stream",
          "name": "stdout",
          "text": [
            "[2.+4.j 5.+6.j 5.+6.j]\n"
          ]
        }
      ]
    },
    {
      "cell_type": "markdown",
      "source": [
        "dot"
      ],
      "metadata": {
        "id": "cXzagqjrVIRb"
      }
    },
    {
      "cell_type": "code",
      "source": [
        "a = np.array([1,2])\n",
        "b = np.array([3,4])\n",
        "# sum of products of corresponding items\n",
        "# when apply dot product check the array are same no of elements\n",
        "dot = 0\n",
        "for i in range(len(a)):\n",
        "   dot += a[i]*b[i]\n",
        "   print(dot)"
      ],
      "metadata": {
        "id": "eY9_vwrgVO-Q"
      },
      "execution_count": null,
      "outputs": []
    },
    {
      "cell_type": "code",
      "source": [
        "#easy methods\n",
        "dot = np.dot(a,b)\n",
        "dot"
      ],
      "metadata": {
        "id": "fBpkVfO1X12b"
      },
      "execution_count": null,
      "outputs": []
    },
    {
      "cell_type": "code",
      "source": [
        "dot = a.dot(b)\n",
        "print(dot)"
      ],
      "metadata": {
        "id": "aMlpR03CX3gV"
      },
      "execution_count": null,
      "outputs": []
    },
    {
      "cell_type": "code",
      "source": [
        "dot = a@b\n",
        "print(dot)"
      ],
      "metadata": {
        "id": "Nx0YlsLzX7Vm"
      },
      "execution_count": null,
      "outputs": []
    },
    {
      "cell_type": "code",
      "source": [
        "#manul\n",
        "c = a*b\n",
        "d = np.sum(c)\n",
        "print(d)"
      ],
      "metadata": {
        "id": "0jqQFvtbYAZC"
      },
      "execution_count": null,
      "outputs": []
    },
    {
      "cell_type": "code",
      "source": [
        "import numpy as np"
      ],
      "metadata": {
        "id": "ow2BV0tFXxBO"
      },
      "execution_count": null,
      "outputs": []
    },
    {
      "cell_type": "code",
      "source": [
        "#create a 1 dimensional array from list\n",
        "a=[1,2,3]\n",
        "b = np.array(a)\n",
        "print(b.ndim)"
      ],
      "metadata": {
        "id": "8i9FoOfob5v0",
        "colab": {
          "base_uri": "https://localhost:8080/"
        },
        "outputId": "0f903bb7-65be-4406-b1df-df66d1f09d19"
      },
      "execution_count": null,
      "outputs": [
        {
          "output_type": "stream",
          "name": "stdout",
          "text": [
            "1\n"
          ]
        }
      ]
    },
    {
      "cell_type": "markdown",
      "source": [
        "multi dimensional array's"
      ],
      "metadata": {
        "id": "bKinqLsKb6I5"
      }
    },
    {
      "cell_type": "code",
      "source": [
        "#create a 2 dimensional array\n",
        "a = np.array([[1,2,3],[4,5,6]])\n",
        "print(a.ndim)\n",
        "print(a)"
      ],
      "metadata": {
        "id": "HvAw11VdcHfj",
        "colab": {
          "base_uri": "https://localhost:8080/"
        },
        "outputId": "f610f1a9-cc15-4dfd-ad32-889ed1204e70"
      },
      "execution_count": null,
      "outputs": [
        {
          "output_type": "stream",
          "name": "stdout",
          "text": [
            "2\n",
            "[[1 2 3]\n",
            " [4 5 6]]\n"
          ]
        }
      ]
    },
    {
      "cell_type": "code",
      "source": [
        "print(a.itemsize)\n",
        "print(a.shape)"
      ],
      "metadata": {
        "id": "Y_ajqXb1cfJx",
        "colab": {
          "base_uri": "https://localhost:8080/"
        },
        "outputId": "f72687c0-8812-4d8f-a509-466aa769a1ec"
      },
      "execution_count": null,
      "outputs": [
        {
          "output_type": "stream",
          "name": "stdout",
          "text": [
            "8\n",
            "(2, 3)\n"
          ]
        }
      ]
    },
    {
      "cell_type": "code",
      "source": [
        "def f(x):\n",
        "    def f1(*args, **kwargs):\n",
        "           print(\"Sanfoundry\")\n",
        "           return x(*args, **kwargs)\n",
        "    return f1"
      ],
      "metadata": {
        "id": "ujv4m23rfD9t"
      },
      "execution_count": null,
      "outputs": []
    },
    {
      "cell_type": "code",
      "source": [
        "def addItem(listParam):\n",
        "    listParam += [1]\n",
        "\n",
        "mylist = [1, 2, 3, 4]\n",
        "addItem(mylist)\n",
        "print(len(mylist))"
      ],
      "metadata": {
        "colab": {
          "base_uri": "https://localhost:8080/"
        },
        "id": "aLklK-4EfTLO",
        "outputId": "f58ed14b-af98-4948-db04-9704f898b0ed"
      },
      "execution_count": null,
      "outputs": [
        {
          "output_type": "stream",
          "name": "stdout",
          "text": [
            "5\n"
          ]
        }
      ]
    },
    {
      "cell_type": "code",
      "source": [
        "x = ['ab', 'cd']\n",
        "print(list(map(upper, x)))"
      ],
      "metadata": {
        "id": "Qh_zBMpxgiJz",
        "outputId": "b8f98e6f-ac5d-49bf-b238-66c43d4d2ec5",
        "colab": {
          "base_uri": "https://localhost:8080/",
          "height": 159
        }
      },
      "execution_count": null,
      "outputs": [
        {
          "output_type": "error",
          "ename": "NameError",
          "evalue": "name 'upper' is not defined",
          "traceback": [
            "\u001b[0;31m---------------------------------------------------------------------------\u001b[0m",
            "\u001b[0;31mNameError\u001b[0m                                 Traceback (most recent call last)",
            "\u001b[0;32m<ipython-input-26-c44a2624222d>\u001b[0m in \u001b[0;36m<cell line: 2>\u001b[0;34m()\u001b[0m\n\u001b[1;32m      1\u001b[0m \u001b[0mx\u001b[0m \u001b[0;34m=\u001b[0m \u001b[0;34m[\u001b[0m\u001b[0;34m'ab'\u001b[0m\u001b[0;34m,\u001b[0m \u001b[0;34m'cd'\u001b[0m\u001b[0;34m]\u001b[0m\u001b[0;34m\u001b[0m\u001b[0;34m\u001b[0m\u001b[0m\n\u001b[0;32m----> 2\u001b[0;31m \u001b[0mprint\u001b[0m\u001b[0;34m(\u001b[0m\u001b[0mlist\u001b[0m\u001b[0;34m(\u001b[0m\u001b[0mmap\u001b[0m\u001b[0;34m(\u001b[0m\u001b[0mupper\u001b[0m\u001b[0;34m,\u001b[0m \u001b[0mx\u001b[0m\u001b[0;34m)\u001b[0m\u001b[0;34m)\u001b[0m\u001b[0;34m)\u001b[0m\u001b[0;34m\u001b[0m\u001b[0;34m\u001b[0m\u001b[0m\n\u001b[0m",
            "\u001b[0;31mNameError\u001b[0m: name 'upper' is not defined"
          ]
        }
      ]
    },
    {
      "cell_type": "code",
      "source": [
        "elements = [0, 1, 2]\n",
        "def incr(x):\n",
        "  return x+1\n",
        "print(list(map(elements,incr)))"
      ],
      "metadata": {
        "colab": {
          "base_uri": "https://localhost:8080/",
          "height": 176
        },
        "id": "LvNhdJ88gGX9",
        "outputId": "6bd0c77d-2d20-4911-c14a-a1c3f580c676"
      },
      "execution_count": null,
      "outputs": [
        {
          "output_type": "error",
          "ename": "TypeError",
          "evalue": "'function' object is not iterable",
          "traceback": [
            "\u001b[0;31m---------------------------------------------------------------------------\u001b[0m",
            "\u001b[0;31mTypeError\u001b[0m                                 Traceback (most recent call last)",
            "\u001b[0;32m<ipython-input-25-c64bd24e963d>\u001b[0m in \u001b[0;36m<cell line: 4>\u001b[0;34m()\u001b[0m\n\u001b[1;32m      2\u001b[0m \u001b[0;32mdef\u001b[0m \u001b[0mincr\u001b[0m\u001b[0;34m(\u001b[0m\u001b[0mx\u001b[0m\u001b[0;34m)\u001b[0m\u001b[0;34m:\u001b[0m\u001b[0;34m\u001b[0m\u001b[0;34m\u001b[0m\u001b[0m\n\u001b[1;32m      3\u001b[0m   \u001b[0;32mreturn\u001b[0m \u001b[0mx\u001b[0m\u001b[0;34m+\u001b[0m\u001b[0;36m1\u001b[0m\u001b[0;34m\u001b[0m\u001b[0;34m\u001b[0m\u001b[0m\n\u001b[0;32m----> 4\u001b[0;31m \u001b[0mprint\u001b[0m\u001b[0;34m(\u001b[0m\u001b[0mlist\u001b[0m\u001b[0;34m(\u001b[0m\u001b[0mmap\u001b[0m\u001b[0;34m(\u001b[0m\u001b[0melements\u001b[0m\u001b[0;34m,\u001b[0m\u001b[0mincr\u001b[0m\u001b[0;34m)\u001b[0m\u001b[0;34m)\u001b[0m\u001b[0;34m)\u001b[0m\u001b[0;34m\u001b[0m\u001b[0;34m\u001b[0m\u001b[0m\n\u001b[0m",
            "\u001b[0;31mTypeError\u001b[0m: 'function' object is not iterable"
          ]
        }
      ]
    },
    {
      "cell_type": "code",
      "source": [
        "#How can i access the elements from array?\n",
        "#by using the index position number we can access elements in array\n",
        "#array[row_index value,column index value]\n",
        "a = np.array([[1,2,3],[4,5,6]])\n",
        "print(a[0])"
      ],
      "metadata": {
        "id": "5XagIwd0cmd6",
        "colab": {
          "base_uri": "https://localhost:8080/"
        },
        "outputId": "7a0efa01-e942-4ab5-c20e-eb4066808f16"
      },
      "execution_count": null,
      "outputs": [
        {
          "output_type": "stream",
          "name": "stdout",
          "text": [
            "[1 2 3]\n"
          ]
        }
      ]
    },
    {
      "cell_type": "code",
      "source": [
        "b = np.array([[1,2,3],[4,5,6],[7,8,9]])\n",
        "print(b)"
      ],
      "metadata": {
        "id": "yYqrM_C9dNYO",
        "colab": {
          "base_uri": "https://localhost:8080/"
        },
        "outputId": "a9d192fc-98e3-4d93-830e-18527d004904"
      },
      "execution_count": null,
      "outputs": [
        {
          "output_type": "stream",
          "name": "stdout",
          "text": [
            "[[1 2 3]\n",
            " [4 5 6]\n",
            " [7 8 9]]\n"
          ]
        }
      ]
    },
    {
      "cell_type": "code",
      "source": [
        "#if i want to access the particular value from particular column and row\n",
        "print(b[1,1])\n",
        "print(b[1][1])\n",
        "# print the \"9\" from above array\n",
        "print(b[2,2])\n",
        "print(b[2][2])"
      ],
      "metadata": {
        "id": "Y9guw3AOdWU7"
      },
      "execution_count": null,
      "outputs": []
    },
    {
      "cell_type": "code",
      "source": [
        "#slicing:- accessing the range of characters\n",
        "b = np.array([[1,2,3],[4,5,6],[7,8,9]])\n",
        "print(b)\n",
        "# i want to print the values present at 1st column\n",
        "print(b[:,0])\n",
        "#print all the column values in row zero\n",
        "print(b[0])\n",
        "#or the below one both are same\n",
        "print(b[0,:])"
      ],
      "metadata": {
        "id": "COhVYiEMdWFK",
        "colab": {
          "base_uri": "https://localhost:8080/"
        },
        "outputId": "1ed85d39-889b-49d4-ca20-6944f544b0d0"
      },
      "execution_count": null,
      "outputs": [
        {
          "output_type": "stream",
          "name": "stdout",
          "text": [
            "[[1 2 3]\n",
            " [4 5 6]\n",
            " [7 8 9]]\n",
            "[1 4 7]\n",
            "[1 2 3]\n",
            "[1 2 3]\n"
          ]
        }
      ]
    },
    {
      "cell_type": "markdown",
      "source": [
        "Transpose---> change rows into columns and columns into row"
      ],
      "metadata": {
        "id": "Ij_AcIHTfVAW"
      }
    },
    {
      "cell_type": "code",
      "source": [
        "h = np.array([[1,2,3],[4,5,6]])\n",
        "print(h.shape)"
      ],
      "metadata": {
        "id": "ewU-uPEqfTo1"
      },
      "execution_count": null,
      "outputs": []
    },
    {
      "cell_type": "code",
      "source": [
        "u = h.T\n",
        "print(u)"
      ],
      "metadata": {
        "id": "kpHtdOswgerZ"
      },
      "execution_count": null,
      "outputs": []
    },
    {
      "cell_type": "markdown",
      "source": [
        "Matrix multiplication"
      ],
      "metadata": {
        "id": "c08EDCAngkNP"
      }
    },
    {
      "cell_type": "code",
      "source": [
        "a = np.array([[1,2],[3,4]])\n",
        "b = np.array([[3,4],[4,6]])\n",
        "#Note:- to apply matrix multiplication the arrays has to in same shape\n",
        "c= a.dot(b)\n",
        "print(c)\n",
        "#print(a*b)   # element wise multiplication"
      ],
      "metadata": {
        "id": "pN9m0SaQgoeu"
      },
      "execution_count": null,
      "outputs": []
    },
    {
      "cell_type": "code",
      "source": [
        "# broadcasting method:-\n",
        "a = np.array([[1,2],[3,4]])\n",
        "b = np.array([[2]])\n",
        "print(a*b)"
      ],
      "metadata": {
        "id": "hygGFZaVlUAd"
      },
      "execution_count": null,
      "outputs": []
    },
    {
      "cell_type": "code",
      "source": [
        "d = np.array([[4,5,6],[7,8,9]])\n",
        "h = d.dot(b)      #inner dimensions has to be matched\n",
        "print(h)"
      ],
      "metadata": {
        "id": "rIZsJp4vlmMh"
      },
      "execution_count": null,
      "outputs": []
    },
    {
      "cell_type": "code",
      "source": [
        "A = d.T\n",
        "A"
      ],
      "metadata": {
        "id": "quPNkFuml3J9"
      },
      "execution_count": null,
      "outputs": []
    },
    {
      "cell_type": "code",
      "source": [
        "H = A.dot(b)\n",
        "print(H)"
      ],
      "metadata": {
        "id": "VzrPRyLnl3FN"
      },
      "execution_count": null,
      "outputs": []
    },
    {
      "cell_type": "code",
      "source": [
        "#Note:- when we apply the dot product for 2 dimensional array it has to be in same shape"
      ],
      "metadata": {
        "id": "1l2PYm0dmMxz"
      },
      "execution_count": null,
      "outputs": []
    },
    {
      "cell_type": "code",
      "source": [
        "a = np.array([[1,2],[3,4]])\n",
        "b = np.array([[1,2]])\n",
        "c = a.dot(b)\n",
        "print(c)"
      ],
      "metadata": {
        "id": "2MtqSbZDmXYX"
      },
      "execution_count": null,
      "outputs": []
    },
    {
      "cell_type": "markdown",
      "source": [
        "determinent"
      ],
      "metadata": {
        "id": "-u9W5va5nK5-"
      }
    },
    {
      "cell_type": "code",
      "source": [
        "a = np.array([[1,2],[3,4]])\n",
        "# find the determinent of a\n",
        "#use 'np.linalg.det'\n",
        "c = np.linalg.det(a)\n",
        "print(c)\n",
        "#determinent ------> it means [(1*4)-(2*3)]"
      ],
      "metadata": {
        "id": "6MkV_v_6nOPx"
      },
      "execution_count": null,
      "outputs": []
    },
    {
      "cell_type": "markdown",
      "source": [
        "inverse"
      ],
      "metadata": {
        "id": "ewvoxTZ9oNtt"
      }
    },
    {
      "cell_type": "code",
      "source": [
        "a = np.array([[1,2],[3,4]])\n",
        "d= np.linalg.inv(a)\n",
        "print(d)"
      ],
      "metadata": {
        "id": "nSVAlsOJoNGK"
      },
      "execution_count": null,
      "outputs": []
    },
    {
      "cell_type": "markdown",
      "source": [
        "diagonal"
      ],
      "metadata": {
        "id": "DyzUZ4rfofe9"
      }
    },
    {
      "cell_type": "code",
      "source": [
        "c = np.diag(a)\n",
        "print(c)"
      ],
      "metadata": {
        "id": "v9neNYL8o9ui"
      },
      "execution_count": null,
      "outputs": []
    },
    {
      "cell_type": "code",
      "source": [
        "#diagonal on a vector returns diagonal matrix\n",
        "d = np.diag([1,4])\n",
        "print(d)"
      ],
      "metadata": {
        "id": "RxjylZueogIy"
      },
      "execution_count": null,
      "outputs": []
    },
    {
      "cell_type": "markdown",
      "source": [
        "boolean indexing"
      ],
      "metadata": {
        "id": "KyZIyR-7pEZa"
      }
    },
    {
      "cell_type": "code",
      "source": [
        "a = np.array([[1,2,3,4],[5,6,7,8],[9,10,11,12]])\n",
        "print(a.ndim)\n",
        "print(a.shape)\n",
        "print(a)\n",
        "print(a[:,1])"
      ],
      "metadata": {
        "id": "xtENdDSPpF7Z"
      },
      "execution_count": null,
      "outputs": []
    },
    {
      "cell_type": "code",
      "source": [
        "#print the elements greater than 2 form above array\n",
        "print(a[a>2])"
      ],
      "metadata": {
        "id": "LpjbKyqXpwIW"
      },
      "execution_count": null,
      "outputs": []
    },
    {
      "cell_type": "code",
      "source": [
        "#HOW WE CAN APPLY CONDITION IN ARRAY?\n",
        "#np.where(condition, true, false)\n",
        "b = np.where(a>2, a, -1)\n",
        "print(b)"
      ],
      "metadata": {
        "id": "XxEUL3PbqVd9"
      },
      "execution_count": null,
      "outputs": []
    },
    {
      "cell_type": "code",
      "source": [
        "a = np.array([10,20,30,40,50,60,19,30,31,61])\n",
        "#compute indices where the condition is true  . number has to divisible with 2\n",
        "even  = np.argwhere(a%2==0).flatten()\n",
        "print(even)\n",
        "#you want to see the values\n",
        "a_even = a[even]\n",
        "print(a_even)"
      ],
      "metadata": {
        "id": "WiPVtz4Erq47"
      },
      "execution_count": null,
      "outputs": []
    },
    {
      "cell_type": "markdown",
      "source": [
        "*** Revision ***"
      ],
      "metadata": {
        "id": "4H0hV4OXjctX"
      }
    },
    {
      "cell_type": "code",
      "source": [],
      "metadata": {
        "id": "vgoQJc-Si4c5"
      },
      "execution_count": null,
      "outputs": []
    },
    {
      "cell_type": "markdown",
      "source": [
        "Reshaping of an array"
      ],
      "metadata": {
        "id": "V9PbponmlIbV"
      }
    },
    {
      "cell_type": "code",
      "source": [
        "#create an array of range of 1 to 7\n",
        "import numpy as np"
      ],
      "metadata": {
        "id": "tGbBxoqblPlq"
      },
      "execution_count": null,
      "outputs": []
    },
    {
      "cell_type": "code",
      "source": [
        "a = np.arange(1,7)\n",
        "print(a)"
      ],
      "metadata": {
        "id": "Ie8cSQHulgoI"
      },
      "execution_count": null,
      "outputs": []
    },
    {
      "cell_type": "code",
      "source": [
        "#reshape the above array in to2 rows and 3 columns?\n",
        "b = a.reshape(2,3)\n",
        "print(b)"
      ],
      "metadata": {
        "id": "NdendNc-ltKq"
      },
      "execution_count": null,
      "outputs": []
    },
    {
      "cell_type": "markdown",
      "source": [
        "New axis"
      ],
      "metadata": {
        "id": "IIrE1Mehl-CI"
      }
    },
    {
      "cell_type": "code",
      "source": [
        "#new axis:- used to create new axis in the data\n",
        "print(a.shape)\n",
        "d = a[np.newaxis,:] #to reshape the data into particular manner\n",
        "print(d)"
      ],
      "metadata": {
        "id": "gRbUZuQZl9ce"
      },
      "execution_count": null,
      "outputs": []
    },
    {
      "cell_type": "code",
      "source": [
        "d.shape"
      ],
      "metadata": {
        "id": "aU5I7c47mqFf"
      },
      "execution_count": null,
      "outputs": []
    },
    {
      "cell_type": "code",
      "source": [
        "e = a[:,np.newaxis]\n",
        "print(e)\n",
        "e.shape"
      ],
      "metadata": {
        "id": "rG6mKKq2m4oZ"
      },
      "execution_count": null,
      "outputs": []
    },
    {
      "cell_type": "code",
      "source": [
        "# when we are using np.newaxis?\n",
        "#needed when the model requires the data to be shaped in a certain manner or to reshape the data into particular manner\n",
        "#Note: Transpose can be applicable for 2d_array"
      ],
      "metadata": {
        "id": "PldTNAGPnVO3"
      },
      "execution_count": null,
      "outputs": []
    },
    {
      "cell_type": "markdown",
      "source": [
        "Concatenation"
      ],
      "metadata": {
        "id": "0wBvRP0wn3kD"
      }
    },
    {
      "cell_type": "code",
      "source": [
        "a = np.array([[1,2],[3,4]])\n",
        "b = np.array([[5,6],[7,8]])\n",
        "#combine or concatenate the above 2 arrays in 1d_array\n",
        "c = np.concatenate((a,b),axis = None)\n",
        "print(c)\n",
        "\"\"\" Note:- 1. when axis = None' it returns id array\n",
        "           2. when 'axis = 0' it adds second array values into rows wise\n",
        "           3. when 'axis = 1' it adds the second array values into columns side by side\n",
        "           we can concatenate as many arrays \"\"\""
      ],
      "metadata": {
        "id": "l6iEHmhdn6Ta"
      },
      "execution_count": null,
      "outputs": []
    },
    {
      "cell_type": "code",
      "source": [
        "a = np.array([[1,2],[3,4]])\n",
        "b = np.array([[5,6],[7,8]])\n",
        "c = np.array([[9,10],[11,12]])\n",
        "c = np.concatenate((a,b,c),axis = 0)\n",
        "print(c)\n",
        "print(c[2,:])\n",
        "print(c[:,1])"
      ],
      "metadata": {
        "id": "Sf9fvJ84p091"
      },
      "execution_count": null,
      "outputs": []
    },
    {
      "cell_type": "markdown",
      "source": [
        "***Hstack***"
      ],
      "metadata": {
        "id": "_bswil8RrFN8"
      }
    },
    {
      "cell_type": "code",
      "source": [
        "#hstack:- stack array in sequence horizentally and stack is kind of list it is similar to array\n",
        "a = np.array([1,2,3,4])\n",
        "b = np.array([5,6,7,8])\n",
        "#c = np.concatenate((a,b),axis = None)\n",
        "c = np.hstack((a,b))\n",
        "print(c)\n",
        "c.shape"
      ],
      "metadata": {
        "id": "xDp9zDrVrEaJ"
      },
      "execution_count": null,
      "outputs": []
    },
    {
      "cell_type": "markdown",
      "source": [
        "Vstack:- add the sequence of stack array's vertically"
      ],
      "metadata": {
        "id": "EqKkyjjYtoVF"
      }
    },
    {
      "cell_type": "code",
      "source": [
        "d = np.vstack((a,b))\n",
        "d"
      ],
      "metadata": {
        "id": "dQbBZlOSs0_G"
      },
      "execution_count": null,
      "outputs": []
    },
    {
      "cell_type": "code",
      "source": [
        "d = np.concatenate((a,b),axis = 0)\n",
        "d"
      ],
      "metadata": {
        "id": "r6CVb-Qos64V"
      },
      "execution_count": null,
      "outputs": []
    },
    {
      "cell_type": "code",
      "source": [
        "a = np.array([[1,2],[3,4]])\n",
        "b = np.array([[5,6],[7,8]])\n",
        "#d = np.vstack((a,b))\n",
        "d = np.hstack((a,b))\n",
        "d"
      ],
      "metadata": {
        "id": "MbWf62yJtRS7"
      },
      "execution_count": null,
      "outputs": []
    },
    {
      "cell_type": "markdown",
      "source": [
        "copying"
      ],
      "metadata": {
        "id": "MO-GOjhuvUxZ"
      }
    },
    {
      "cell_type": "code",
      "source": [
        " a = np.array([1,2,3])\n",
        " b = a\n",
        " b[0] = 32\n",
        " print(b)"
      ],
      "metadata": {
        "id": "vsyK-NPGvYI9"
      },
      "execution_count": null,
      "outputs": []
    },
    {
      "cell_type": "code",
      "source": [
        "a = np.array([1,2,3])\n",
        "b = a.copy()\n",
        "b[0]= 6\n",
        "print(a)\n",
        "# By using copy() if you make any changes to new array the old array does not change or to save the actual data"
      ],
      "metadata": {
        "id": "VV-qJsvpvPxS"
      },
      "execution_count": null,
      "outputs": []
    },
    {
      "cell_type": "markdown",
      "source": [
        "Data Types"
      ],
      "metadata": {
        "id": "tVBdYqRhwNBO"
      }
    },
    {
      "cell_type": "code",
      "source": [
        "# How can you find data types in array?\n",
        "a = np.array([1,2,3])\n",
        "a.dtype"
      ],
      "metadata": {
        "id": "xxo6x0P2wQ9X"
      },
      "execution_count": null,
      "outputs": []
    },
    {
      "cell_type": "code",
      "source": [
        "#store the above array in 32bites\n",
        "a = np.array([1,2,3],dtype = np.int32)\n",
        "a.dtype"
      ],
      "metadata": {
        "id": "zzz2tgHWxCwp"
      },
      "execution_count": null,
      "outputs": []
    },
    {
      "cell_type": "code",
      "source": [
        "a = np.array([1,2,3],dtype = np.float32)\n",
        "a.dtype\n",
        "a"
      ],
      "metadata": {
        "id": "1V2EcdhpxjkZ"
      },
      "execution_count": null,
      "outputs": []
    },
    {
      "cell_type": "markdown",
      "source": [
        "Generating Arrays"
      ],
      "metadata": {
        "id": "ms2NFxWOxPtv"
      }
    },
    {
      "cell_type": "code",
      "source": [
        "#generate an array of zeros which is having 2 rows and 3 columns?\n",
        "a = np.zeros((2,3))\n",
        "print(a)"
      ],
      "metadata": {
        "id": "EagXqfWdyl9v"
      },
      "execution_count": null,
      "outputs": []
    },
    {
      "cell_type": "code",
      "source": [
        "#generate an array of ones which is having 2 rows and 3 columns?\n",
        "b = np.ones((2,3))\n",
        "print(b)\n",
        "b"
      ],
      "metadata": {
        "id": "TPStQ1MNzOo9"
      },
      "execution_count": null,
      "outputs": []
    },
    {
      "cell_type": "code",
      "source": [
        "#generate an array of specific number with specific rows and values?\n",
        "d = np.eye(3)\n",
        "d"
      ],
      "metadata": {
        "id": "qQgiYHL4zi0f"
      },
      "execution_count": null,
      "outputs": []
    },
    {
      "cell_type": "code",
      "source": [
        "#generate an array of numbers up to 10\n",
        "e = np.arange(1,11)\n",
        "print(e)"
      ],
      "metadata": {
        "id": "2z0tIzJh0Rlt"
      },
      "execution_count": null,
      "outputs": []
    },
    {
      "cell_type": "code",
      "source": [
        "#linspace:- splits the data into equalparts\n",
        "h = np.linspace(0,10,5)\n",
        "#np.lionspace(start,end,split_count)\n",
        "h"
      ],
      "metadata": {
        "id": "Ap4TKgj40iFr"
      },
      "execution_count": null,
      "outputs": []
    },
    {
      "cell_type": "code",
      "source": [
        "import numpy as np"
      ],
      "metadata": {
        "id": "JMKu8vEltFmm"
      },
      "execution_count": null,
      "outputs": []
    },
    {
      "cell_type": "code",
      "source": [
        "d = np.eye(3)\n",
        "print(d)"
      ],
      "metadata": {
        "id": "xHhTgNemtYNx"
      },
      "execution_count": null,
      "outputs": []
    },
    {
      "cell_type": "code",
      "source": [
        "a = np.identity(3)\n",
        "print(a)"
      ],
      "metadata": {
        "id": "W1zQKKUMtc_N"
      },
      "execution_count": null,
      "outputs": []
    },
    {
      "cell_type": "code",
      "source": [
        "#numpy.eye(N, M=None, k=0, dtype=<class 'float'>, order='C', *, device=None, like=None)\n",
        "#N---> rows\n",
        "#M --> Count of columns\n",
        "#K --> index from where the '1' can be set in column index\n",
        "#print a matrix with 3*5 idetntity matrix\n",
        "b = np.eye(5,M=5,k=0)\n",
        "print(b)"
      ],
      "metadata": {
        "id": "qg_vbvS0tg6z"
      },
      "execution_count": null,
      "outputs": []
    },
    {
      "cell_type": "code",
      "source": [
        "#what is the difference between np.identity and np.eye()\n",
        "#Np.idenetity--> return 2D arrray with N*N Matrix\n",
        "#Np.eye()--> return 2D array with N*N matrics and we can customize the no of rows and columns along with index k customisation"
      ],
      "metadata": {
        "id": "NUwi_cBYtn2h"
      },
      "execution_count": null,
      "outputs": []
    },
    {
      "cell_type": "code",
      "source": [
        "#argwhere,argmin,argmax--> returns the indexes"
      ],
      "metadata": {
        "id": "hrke_xPmv9d-"
      },
      "execution_count": null,
      "outputs": []
    },
    {
      "cell_type": "markdown",
      "source": [
        "Random numbers"
      ],
      "metadata": {
        "id": "zLw4UCIrwGUL"
      }
    },
    {
      "cell_type": "code",
      "source": [
        "import numpy as np\n",
        "#generate a random numbers uniformly distributed from 0 to 1?\n",
        "a =  np.random.random((3,2))\n",
        "print(a)"
      ],
      "metadata": {
        "id": "IGjqZddTwIpx",
        "outputId": "5629816c-02a6-4e12-e9f3-c6ca83ce1d69",
        "colab": {
          "base_uri": "https://localhost:8080/"
        }
      },
      "execution_count": null,
      "outputs": [
        {
          "output_type": "stream",
          "name": "stdout",
          "text": [
            "[[0.56378282 0.63016169]\n",
            " [0.97801261 0.72638926]\n",
            " [0.44412319 0.49816463]]\n"
          ]
        }
      ]
    },
    {
      "cell_type": "code",
      "source": [
        "#generate an array which is normally distributed?\n",
        "#normal distribution means --> mean,median,mode is same and variance is 1\n",
        "b = np.random.randn(3,2)\n",
        "print(b)"
      ],
      "metadata": {
        "id": "EcODqNgmwTki"
      },
      "execution_count": null,
      "outputs": []
    },
    {
      "cell_type": "code",
      "source": [
        "print(np.mean(b))\n",
        "#print(np.median(b))\n",
        "print(np.var(b))\n",
        "print(np.std(b))"
      ],
      "metadata": {
        "id": "LYMfMDnJxfUQ"
      },
      "execution_count": null,
      "outputs": []
    },
    {
      "cell_type": "code",
      "source": [
        "#generate random.randn numbers upto 1000 samples and find the mean,variance and standard deviation(std)\n",
        "c = np.random.randn(1000)\n",
        "print(c.mean(),c.var(),c.std())"
      ],
      "metadata": {
        "id": "o9V9qxi7yJwe"
      },
      "execution_count": null,
      "outputs": []
    },
    {
      "cell_type": "code",
      "source": [
        "#generate an random integers from 10 to 20 in the size of 4*4\n",
        "#random.randint(low, high=None, size=None, dtype=int)\n",
        "d = np.random.randint(100)\n",
        "a = np.random.randint(10,size = 4)\n",
        "c = np.random.randint(10,size=(4,4))\n",
        "print(d)\n",
        "print(a)\n",
        "print(c)\n",
        "a = np.array([10, 20, 30, 40])\n",
        "b = np.array([18, 15, 14])\n",
        "c = np.array([25, 24, 26, 28, 23])\n",
        "\n",
        "x, y, z = np.ix_(a, b, c)\n",
        "print(x)\n",
        "y = np.array([1,2,3,4,5])\n",
        "print(y.shape)"
      ],
      "metadata": {
        "id": "Z1M4KsIo0E4U"
      },
      "execution_count": null,
      "outputs": []
    },
    {
      "cell_type": "code",
      "source": [
        "d = np.random.randint(10,20,size=(4,4))\n",
        "print(d)"
      ],
      "metadata": {
        "id": "CXitLn2O04pn"
      },
      "execution_count": null,
      "outputs": []
    },
    {
      "cell_type": "code",
      "source": [
        "#generate a number upto 6 and divide into size of 10\n",
        "e = np.random.choice(7,size = 10)\n",
        "print(e)"
      ],
      "metadata": {
        "id": "LRWtcy3T1ZD4"
      },
      "execution_count": null,
      "outputs": []
    },
    {
      "cell_type": "code",
      "source": [
        "l = np.random.choice([1,2,3,4],size = 10)\n",
        "print(l)"
      ],
      "metadata": {
        "id": "hOmz-ZbW1_Gg"
      },
      "execution_count": null,
      "outputs": []
    },
    {
      "cell_type": "markdown",
      "source": [
        "solving linear equations"
      ],
      "metadata": {
        "id": "KORx3eHJ3JKL"
      }
    },
    {
      "cell_type": "code",
      "source": [
        "#2x1+3y1 = 0\n",
        "#6x+12y = 5.\n",
        "a = np.array([[2,3],[6,12]])\n",
        "b = np.array([0,5])\n",
        "# ax = B <==>   x = a**-1 b\n",
        "x = np.linalg.inv(a).dot(b)\n",
        "print(x)"
      ],
      "metadata": {
        "id": "Wt1ONLwu3Izz"
      },
      "execution_count": null,
      "outputs": []
    },
    {
      "cell_type": "code",
      "source": [
        "#instead use another method\n",
        "x = np.linalg.solve(a,b)\n",
        "print(x)"
      ],
      "metadata": {
        "colab": {
          "base_uri": "https://localhost:8080/"
        },
        "id": "JOenxlb74epd",
        "outputId": "6586f2d0-b2f4-4e89-c6f0-6eb55d07bcea"
      },
      "execution_count": null,
      "outputs": [
        {
          "output_type": "stream",
          "name": "stdout",
          "text": [
            "[-2.5         1.66666667]\n"
          ]
        }
      ]
    },
    {
      "cell_type": "code",
      "source": [
        "import numpy as np"
      ],
      "metadata": {
        "id": "uvp8F-9Xaaef"
      },
      "execution_count": null,
      "outputs": []
    }
  ]
}