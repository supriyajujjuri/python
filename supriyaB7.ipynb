{
  "cells": [
    {
      "cell_type": "markdown",
      "metadata": {
        "id": "view-in-github",
        "colab_type": "text"
      },
      "source": [
        "<a href=\"https://colab.research.google.com/github/supriyajujjuri/python/blob/main/supriyaB7.ipynb\" target=\"_parent\"><img src=\"https://colab.research.google.com/assets/colab-badge.svg\" alt=\"Open In Colab\"/></a>"
      ]
    },
    {
      "cell_type": "markdown",
      "source": [],
      "metadata": {
        "id": "KHJh99VVg6A2"
      }
    },
    {
      "cell_type": "markdown",
      "metadata": {
        "id": "FbJ7k9Puk2yl"
      },
      "source": [
        "Module--> Python"
      ]
    },
    {
      "cell_type": "code",
      "execution_count": null,
      "metadata": {
        "id": "YdLHem78K5z5"
      },
      "outputs": [],
      "source": [
        "#what is python?\n",
        "''' Most emerging, General Purpose Programming language\n",
        "High -level programming langugae\n",
        "Dynamically typed programming langugae\n",
        "Object-oriented programming language.-->oop’s\n",
        "Interpreted programming language '''"
      ]
    },
    {
      "cell_type": "code",
      "execution_count": null,
      "metadata": {
        "id": "1_kjoIvKL6Tg"
      },
      "outputs": [],
      "source": [
        "#what is Most emerging, General Purpose Programming Language?\n",
        "'''emerging means day-to-day life most of the people are using a python programming language\n",
        "Genral purpose:\n",
        " 1. python is mainly used for Data management\n",
        " 2. guido van Rossum\n",
        " 3. c language\n",
        " 4. is also used in web development and mobile app development...etc\n",
        "apart from above usage the python is used for general purpose means for example\n",
        " ISRO SCIENTIST use python for physics calculations\n",
        " image processing\n",
        " to convert a large word file into a pdf file.\n",
        " track the stocks'''"
      ]
    },
    {
      "cell_type": "code",
      "execution_count": null,
      "metadata": {
        "id": "t3fwAP-HM4_q"
      },
      "outputs": [],
      "source": [
        "#How many levels of programming languages ?\n",
        "'''there are 2 levels\n",
        "1. High-Level:- is also known as “Human friendly programming language”\n",
        " -->Here the codes are not changing into binary forms\n",
        " --> you feel this language as a english langugae when you read the code\n",
        " --> python and Java\n",
        "2.Low-level:- is also known as “machine friendly programming language”\n",
        " --> The each line of code is changing in to binary forms. Binary means 0's and 1's\n",
        " --> You are having more line of code\n",
        " --> c and c++'''"
      ]
    },
    {
      "cell_type": "code",
      "execution_count": null,
      "metadata": {
        "id": "FhqgBsZFNcFg"
      },
      "outputs": [],
      "source": [
        "#How many types of programming languages?\n",
        "'''there are 2 types\n",
        "1.statically typed:- we need to define the data type for the variables\n",
        " ex:- int[a]=10\n",
        " float[b]= 10.5\n",
        "str[c]=”hello”\n",
        " ex:- java, c, c++\n",
        "2. Dynamically typed:- we no need to define the dtype for the variable\n",
        " ex:- a = 10\n",
        " b = “hello”\n",
        " a = 10.5\n",
        " ex:- python\n",
        "python can read the data type automatically by itself'''"
      ]
    },
    {
      "cell_type": "code",
      "execution_count": null,
      "metadata": {
        "id": "ZP7NFLWkOiIv"
      },
      "outputs": [],
      "source": [
        "# what is an Object-oriented programming language?-->oop’s\n",
        "'''In OOP’s the each line of code is having its own identity, properties or attributes and methods of interactions\n",
        "How can you define this object\n",
        "The object can be defined in 3 ways 1. identity, 2, properties or attributes, 3methods of interaction\n",
        "class--> softwqare programe--> int\n",
        "object-->python program x = 10\n",
        "Identity\n",
        " 1.python\n",
        "x = 10\n",
        "properties/attributes pLHL DT\n",
        "IP\n",
        "Methods of interactions\n",
        "IDE’s-->\n",
        "integrated development environment\n",
        "Google colab\n",
        "pycharm\n",
        "jupyternotebook vs code'''\n"
      ]
    },
    {
      "cell_type": "code",
      "execution_count": null,
      "metadata": {
        "id": "VaLV2N3TViPj"
      },
      "outputs": [],
      "source": [
        "#What is an interpreted programming language?\n",
        "'''The code can execute line by line and the last lines of code or values can be taken into\n",
        "consideration\n",
        "x = 10\n",
        "y = 5\n",
        "x = 20\n",
        "y = 40\n",
        "print(x+y)'''"
      ]
    },
    {
      "cell_type": "code",
      "execution_count": null,
      "metadata": {
        "id": "y7JJNiCMVveB"
      },
      "outputs": [],
      "source": [
        "#what is an IDE’s?\n",
        "#integrated development environments\n",
        "#How can you define an ide?\n",
        "'''it is an environment where we write our code, or execute our code or compile our code or\n",
        "also this ide also defined as “interpreter”\n",
        "google colab, pycharm,Jupyter Notebook, vs'''"
      ]
    },
    {
      "cell_type": "code",
      "execution_count": null,
      "metadata": {
        "id": "2EQ0CHtrWAVz"
      },
      "outputs": [],
      "source": [
        "#Note:- python is a most emerging, general purpose, high-level, oop, Dynamically typed and interpreted programming language\n"
      ]
    },
    {
      "cell_type": "code",
      "execution_count": null,
      "metadata": {
        "id": "H5llaeLvWWEA"
      },
      "outputs": [],
      "source": [
        "#why the comment is important is Python?\n",
        "'''for better understanding of the code we are making comments\n",
        "these comments are two types\n",
        "1. single line comment--> #\n",
        "2.Multiline comment--> “““ ”””(double triple quotes) or single triple quotes(‘‘‘ ’’’)'''"
      ]
    },
    {
      "cell_type": "markdown",
      "metadata": {
        "id": "2QtftydhlDdd"
      },
      "source": [
        "**Numerical data types in python**"
      ]
    },
    {
      "cell_type": "code",
      "execution_count": null,
      "metadata": {
        "id": "WhPlWRmtlX4x"
      },
      "outputs": [],
      "source": [
        "# there are 3 types of data types\n",
        "#1. Integer----> int\n",
        "#what is an integer?\n",
        "# INt is a whole number either +ve or -ve without decimal points\n",
        "print(10)\n",
        "print(-5)\n",
        "#i want to find the data types of above numbers\n",
        "#use \"type()\" is a inbuilt funtion used to find your data types\n",
        "print(type(10))\n",
        "print(type(-5))\n"
      ]
    },
    {
      "cell_type": "code",
      "execution_count": null,
      "metadata": {
        "id": "GQVmAMdxmvPd"
      },
      "outputs": [],
      "source": [
        "#2.float:- ---> float\n",
        "#what is a float?\n",
        "#whole number either +ve or -ve with decimal points\n",
        "print(10.5)\n",
        "print(-5.5)\n",
        "print(type(10.5))\n",
        "print(type(-5.5))"
      ]
    },
    {
      "cell_type": "code",
      "execution_count": null,
      "metadata": {
        "id": "cjYsD1oOnI45"
      },
      "outputs": [],
      "source": [
        "#complex number:- ----> complex\n",
        "#what is a complex number?\n",
        "#A real number with its imaginary part is known as complex number\n",
        "#the imaginary has to be in \"j\" is known as \"iota\" tha value of j is root -1\n",
        "print(2+5j)\n",
        "print(3+5j)\n",
        "print(type(2+5j))"
      ]
    },
    {
      "cell_type": "markdown",
      "metadata": {
        "id": "xl1-vnY6nUz5"
      },
      "source": [
        "**Arthmetic opereators**"
      ]
    },
    {
      "cell_type": "code",
      "execution_count": null,
      "metadata": {
        "colab": {
          "background_save": true
        },
        "id": "kzAfycFcYLO9"
      },
      "outputs": [],
      "source": [
        "#There are 7 arthametic operators\n",
        "#1. addition-->+\n",
        "print(10+5)\n",
        "print(type(10+5))\n",
        "#2. substraction--> -\n",
        "print(10-5)\n",
        "print(type(10-5))\n",
        "#3. multiplication--> *\n",
        "print(10*5)\n",
        "print(type(10*5))\n",
        "#4. division-->  /\n",
        "print(10/5)\n",
        "print(type(10/5))\n",
        "# why the default data type for divison is float?\n",
        "# in most of the division operation the co-effiecient you may get as a float sometimes or fixed number sometimes\n",
        "# so it is easy to concert a float into integer\n",
        "# to get the actual or sufficient coefficient"
      ]
    },
    {
      "cell_type": "code",
      "execution_count": null,
      "metadata": {
        "id": "T083zzBUogFd",
        "colab": {
          "base_uri": "https://localhost:8080/"
        },
        "outputId": "2f157572-dbd3-4807-f889-c8e20cc3021f"
      },
      "outputs": [
        {
          "output_type": "stream",
          "name": "stdout",
          "text": [
            "0\n",
            "<class 'int'>\n",
            "1\n"
          ]
        }
      ],
      "source": [
        "#5. Modulus---> %\n",
        "# modulus is defined as remainder of the division\n",
        "print(10 % 5)\n",
        "print(type(10 % 5))\n",
        "#to find even and odd data or number or prime numbers we are using modulus\n",
        "print(236548243769 % 2)"
      ]
    },
    {
      "cell_type": "code",
      "execution_count": null,
      "metadata": {
        "id": "QgJmoZ8_olLK"
      },
      "outputs": [],
      "source": [
        "#6. exponential ---> **\n",
        "#to the power off\n",
        "print(2**3)\n",
        "print(type(2**3))\n",
        "#use **0.5\n",
        "print(25**0.5)"
      ]
    },
    {
      "cell_type": "code",
      "execution_count": null,
      "metadata": {
        "id": "0TYl9PqUo19k"
      },
      "outputs": [],
      "source": [
        "#7. floor divison--> //\n",
        "#it ignores the values after the decimal point\n",
        "print(10 / 3)\n",
        "print(10 // 3)"
      ]
    },
    {
      "cell_type": "markdown",
      "metadata": {
        "id": "ACRFM55ApDRt"
      },
      "source": [
        "**Round()**"
      ]
    },
    {
      "cell_type": "code",
      "execution_count": null,
      "metadata": {
        "id": "Hy8udFaqo9JO"
      },
      "outputs": [],
      "source": [
        "#what is round function()?\n",
        "#round() can be executes if it is a decimal number\n",
        "#if the decimal point is more than or equal to 0.5 then you get next upcoming value which is known as ceil value\n",
        "#round() is used to print specific ndigits\n",
        "#what is a ceil value and floor value?"
      ]
    },
    {
      "cell_type": "code",
      "execution_count": null,
      "metadata": {
        "id": "qhZl6aMapWjc",
        "colab": {
          "base_uri": "https://localhost:8080/"
        },
        "outputId": "7a9e9f7e-33c3-4262-8c3c-7e549eee3b9a"
      },
      "outputs": [
        {
          "output_type": "stream",
          "name": "stdout",
          "text": [
            "7\n",
            "6\n",
            "2\n"
          ]
        }
      ],
      "source": [
        "print(round(6.6))\n",
        "print(round(6.4321))\n",
        "print(round(2.46))"
      ]
    },
    {
      "cell_type": "code",
      "execution_count": null,
      "metadata": {
        "id": "obORRxOXp2W9",
        "colab": {
          "base_uri": "https://localhost:8080/"
        },
        "outputId": "7c0d90e1-d2a9-4953-ddc8-2e559a16439e"
      },
      "outputs": [
        {
          "output_type": "stream",
          "name": "stdout",
          "text": [
            "345.245\n"
          ]
        }
      ],
      "source": [
        "#round(number, count_ndigits)\n",
        "print(round(345.2454873,3))"
      ]
    },
    {
      "cell_type": "code",
      "execution_count": null,
      "metadata": {
        "id": "RxmAPyF1qUwK",
        "colab": {
          "base_uri": "https://localhost:8080/"
        },
        "outputId": "5fe09073-e406-49c4-9f96-f806af87be02"
      },
      "outputs": [
        {
          "output_type": "stream",
          "name": "stdout",
          "text": [
            "-20000.0\n"
          ]
        }
      ],
      "source": [
        "#when using -ve count then round function igenores the values after decimal point means it makes decimal point as a zero\n",
        "print(round(-15345.98765,-4))"
      ]
    },
    {
      "cell_type": "code",
      "execution_count": null,
      "metadata": {
        "id": "82GlSJqQVRQo"
      },
      "outputs": [],
      "source": [
        "print(10)\n",
        "print(10.5)\n",
        "print(3-4j)\n"
      ]
    },
    {
      "cell_type": "code",
      "execution_count": null,
      "metadata": {
        "id": "-CvLHj7mXnOa"
      },
      "outputs": [],
      "source": [
        "print(10+5)\n",
        "print(type(10+2.5))\n",
        "print(10-5)\n",
        "print(type(10-5))\n",
        "print(10*5)\n",
        "print(type(10*5))\n",
        "print(10/5)\n",
        "print(type(10/5))\n",
        "print(10% 8)\n",
        "print(type(10%8))\n",
        "print(10**3)\n",
        "print(type(10**3))\n",
        "print(10//3)\n",
        "print(type(10//3))\n",
        "print(25**0.5)"
      ]
    },
    {
      "cell_type": "code",
      "execution_count": null,
      "metadata": {
        "id": "VY-HJSnncflk"
      },
      "outputs": [],
      "source": [
        "print(round(6.49))\n",
        "print(round(933.92458, 3))\n",
        "print(round(25961.592, -2))\n"
      ]
    },
    {
      "cell_type": "code",
      "execution_count": null,
      "metadata": {
        "id": "8djyUZbjwRPp"
      },
      "outputs": [],
      "source": [
        "#what is the variables?\n",
        "#variables are nothing but containers where we can store our valuable information or data and reuse it.\n",
        "#How can we create a variable?\n",
        "#we can create variables by using alphabets\n",
        "#it will occupy low memory  and it will enahance python program\n",
        "#we can store the values we can re use\n",
        "s=\"Hello World\"\n",
        "print(s)\n",
        "print(type(s))"
      ]
    },
    {
      "cell_type": "code",
      "execution_count": null,
      "metadata": {
        "id": "5JMQORljxpzM"
      },
      "outputs": [],
      "source": [
        "#take 2 variables and apply all the arthametic operators?\n",
        "a=10\n",
        "b=5\n",
        "print(a+b)\n",
        "print(a-b)\n",
        "print(a*b)\n",
        "print(a/b)\n",
        "print(a%b)\n",
        "print(a**b)\n",
        "print(a//b)\n"
      ]
    },
    {
      "cell_type": "markdown",
      "metadata": {
        "id": "uqt8D5dByvsp"
      },
      "source": [
        "Types of Errors\n",
        "\n",
        "\n"
      ]
    },
    {
      "cell_type": "code",
      "execution_count": null,
      "metadata": {
        "id": "WLn41pgWy25q"
      },
      "outputs": [],
      "source": [
        "#there are two types of errors\n",
        "#1.Syntax error\n",
        "#2.Logical error\n",
        "\n",
        "#what is syntax error\n",
        "#breaking the rules of the programming language can rise an syntax error\n",
        "\"\"\" hi\n",
        "good day!'''"
      ]
    },
    {
      "cell_type": "code",
      "execution_count": null,
      "metadata": {
        "id": "XGqAJimr0P_S"
      },
      "outputs": [],
      "source": [
        "#what is logical error\n",
        "#except syntax error all the errors comes under the logical error\n",
        "#ex:-Name error,attribute error,indentation error,recurssive error...etc\n"
      ]
    },
    {
      "cell_type": "markdown",
      "metadata": {
        "id": "0dBg3LJV06bJ"
      },
      "source": [
        "Rules to create variables"
      ]
    },
    {
      "cell_type": "code",
      "execution_count": null,
      "metadata": {
        "id": "aWg3Eh9I1DzP"
      },
      "outputs": [],
      "source": [
        "#1.start creating the variable by using alphabets\n",
        "a=10\n",
        "print(a)\n",
        "h=\"Hello world\"\n",
        "print(h)"
      ]
    },
    {
      "cell_type": "code",
      "execution_count": null,
      "metadata": {
        "id": "cALdotwt1XCw"
      },
      "outputs": [],
      "source": [
        "#2.dont start creating variables by usimg the numbers\n",
        "2=\"hello\"\n",
        "5=10\n",
        "print(2)"
      ]
    },
    {
      "cell_type": "code",
      "execution_count": null,
      "metadata": {
        "id": "Rp6R-lDC1reS"
      },
      "outputs": [],
      "source": [
        "#3.if you follow rule 1 and 2 you can use numbers in between varible\n",
        "son2age=20\n",
        "print(son2age)"
      ]
    },
    {
      "cell_type": "code",
      "execution_count": null,
      "metadata": {
        "id": "BkidDY4K1-Si"
      },
      "outputs": [],
      "source": [
        "#4.dont use special characters in the variable name\n",
        "#@&^&*%#@ space also\n",
        "son&age =  20\n",
        "print(son&age)"
      ]
    },
    {
      "cell_type": "code",
      "execution_count": null,
      "metadata": {
        "id": "MiBwfno-2aVn"
      },
      "outputs": [],
      "source": [
        "#5.we cannot use the white space in between variables\n",
        "a b c = 10 20 30\n",
        "print(a b c)\n",
        "#note:-if you want to separete the variables use(,) coma in between variables"
      ]
    },
    {
      "cell_type": "code",
      "execution_count": null,
      "metadata": {
        "id": "l5TV_KTT3UDX",
        "colab": {
          "base_uri": "https://localhost:8080/"
        },
        "outputId": "80b9c825-5dad-47b5-f9da-882243aeb8d5"
      },
      "outputs": [
        {
          "output_type": "stream",
          "name": "stdout",
          "text": [
            "20\n",
            "hello\n",
            "helloworld\n"
          ]
        }
      ],
      "source": [
        "#6.we can start creating the variables by using _ underscore instead of space we can use underscore\n",
        "son_age=20\n",
        "print(son_age)\n",
        "_ =\"hello\"\n",
        "print(_)\n",
        "print(\"hello\"+\"world\")"
      ]
    },
    {
      "cell_type": "code",
      "execution_count": null,
      "metadata": {
        "id": "O9kqetWH38TC"
      },
      "outputs": [],
      "source": [
        "#7.we cannot use the capital letters as a varible name\n",
        "SON_AGE = 20\n",
        "PRINT(SON_AGE)"
      ]
    },
    {
      "cell_type": "code",
      "execution_count": null,
      "metadata": {
        "id": "FVPecx584g3b"
      },
      "outputs": [],
      "source": [
        "#what is dynamically typed programming language?\n",
        "#we cannot define dtypes for varibles\n",
        "a=\"hello world!\"\n",
        "print(type(a))\n",
        "#str[a]=\"hello\"\n",
        "b = 10\n",
        "print(type(b))\n",
        "python will updates datatypes by itself\n"
      ]
    },
    {
      "cell_type": "markdown",
      "metadata": {
        "id": "1xTTfpSd5POG"
      },
      "source": [
        "Python is a case sensitive programming language"
      ]
    },
    {
      "cell_type": "code",
      "execution_count": null,
      "metadata": {
        "id": "bI9OqC1r5Gmn"
      },
      "outputs": [],
      "source": [
        "#u =\"hello\"\n",
        "print(U)"
      ]
    },
    {
      "cell_type": "markdown",
      "metadata": {
        "id": "GLDrKmTa5gh7"
      },
      "source": [
        "Python is an interpreted programming language"
      ]
    },
    {
      "cell_type": "code",
      "execution_count": null,
      "metadata": {
        "id": "ZvaUDcPW5o1p"
      },
      "outputs": [],
      "source": [
        "#python executes the program step by step\n",
        "a=10\n",
        "b=20\n",
        "a=30\n",
        "b=40\n",
        "print(a+b)"
      ]
    },
    {
      "cell_type": "code",
      "execution_count": null,
      "metadata": {
        "id": "-FapioDQ6s0J"
      },
      "outputs": [],
      "source": [
        "#we cannot consider keywords as an varible\n",
        "#what is keyword ?\n",
        "#keywords are predefines words or names in python\n",
        "#these are also part of your python syntax\n",
        "#ex:-if,for,while,for,else,try,except,def...etc"
      ]
    },
    {
      "cell_type": "code",
      "execution_count": null,
      "metadata": {
        "colab": {
          "base_uri": "https://localhost:8080/"
        },
        "id": "xJ0D89E87nZ4",
        "outputId": "69eefb65-5ce8-4327-e00a-22c6cfb25661"
      },
      "outputs": [
        {
          "name": "stdout",
          "output_type": "stream",
          "text": [
            "['False', 'None', 'True', 'and', 'as', 'assert', 'async', 'await', 'break', 'class', 'continue', 'def', 'del', 'elif', 'else', 'except', 'finally', 'for', 'from', 'global', 'if', 'import', 'in', 'is', 'lambda', 'nonlocal', 'not', 'or', 'pass', 'raise', 'return', 'try', 'while', 'with', 'yield']\n"
          ]
        }
      ],
      "source": [
        "#how can you print overall keywords in python?\n",
        "import keyword\n",
        "print(keyword.kwlist)"
      ]
    },
    {
      "cell_type": "code",
      "source": [
        "my_tuple = (1, 2, 3, 4, 5)\n",
        "reversed_tuple = my_tuple[::-1]\n",
        "print(reversed_tuple)\n"
      ],
      "metadata": {
        "colab": {
          "base_uri": "https://localhost:8080/"
        },
        "id": "bTAECy-Eopnw",
        "outputId": "35d4b39e-1599-47f6-9bd4-dea6d9ca3c82"
      },
      "execution_count": null,
      "outputs": [
        {
          "output_type": "stream",
          "name": "stdout",
          "text": [
            "(5, 4, 3, 2, 1)\n"
          ]
        }
      ]
    },
    {
      "cell_type": "code",
      "source": [
        "z=set('abc$de')\n",
        "'a' in z\n"
      ],
      "metadata": {
        "colab": {
          "base_uri": "https://localhost:8080/"
        },
        "id": "Az48yI8gnUze",
        "outputId": "6eddd835-2dd3-4b7e-e2aa-77c9cb65de54"
      },
      "execution_count": null,
      "outputs": [
        {
          "output_type": "execute_result",
          "data": {
            "text/plain": [
              "True"
            ]
          },
          "metadata": {},
          "execution_count": 20
        }
      ]
    },
    {
      "cell_type": "markdown",
      "metadata": {
        "id": "VpsRIssK8p_t"
      },
      "source": [
        "smart ways of writing variables"
      ]
    },
    {
      "cell_type": "code",
      "execution_count": null,
      "metadata": {
        "id": "XEG2JHtx8o1d"
      },
      "outputs": [],
      "source": [
        "#1.assign multiple values to multiple varibles and print in seperate line\n",
        "#hint:-take three varibles and print in separete line\n",
        "a=5\n",
        "b=10\n",
        "c=3\n",
        "print(a)\n",
        "print(b)\n",
        "print(c)\n",
        "a,b,c=5,10,3\n",
        "print(a,b,c, sep='\\n')\n",
        "# sep is used to print actual output in separate lines (backward slash 'n'(\\n)means print output)"
      ]
    },
    {
      "cell_type": "code",
      "execution_count": null,
      "metadata": {
        "id": "oN1AUxUe-QHA"
      },
      "outputs": [],
      "source": [
        "#1.assign single value to multiple varibles and print in seperate line\n",
        "#hint:-take three varibles and print in separete line\n",
        "#a,b,c=1---->type error\n",
        "#print(a,b,c, sep='\\n')\n",
        "a=1\n",
        "b=1\n",
        "c=1\n",
        "print(a)\n",
        "print(b)\n",
        "print(c)\n",
        "a=b=c=1\n",
        "print(a,b,c, sep='\\n')"
      ]
    },
    {
      "cell_type": "markdown",
      "metadata": {
        "id": "8nB1KpjI_WqD"
      },
      "source": [
        "Input()"
      ]
    },
    {
      "cell_type": "code",
      "execution_count": null,
      "metadata": {
        "id": "9G-Dc6CU_bNm"
      },
      "outputs": [],
      "source": [
        "#what is input()\n",
        "#it is user defined variable\n",
        "#it is a inbuilt function used to intake any kind of information from user and store it\n",
        "#what is the purpose of input()?\n",
        "#multiple user valuable information or data  intakes and low memory occcupency\n",
        "#enhance python performance\n",
        "#How can we create this input()?\n",
        "a=input()\n",
        "print(a)\n",
        "print(type(a))\n",
        " #what is the default data type for input()?\n",
        "#string\n",
        "#why the default dtype for input() is string?\n",
        "\"\"\"we dont know what type of information can we taken from the user,so the\n",
        "class which accepts all the characters is string\n",
        "string is the only class which is having collection of multiples characters\"\"\""
      ]
    },
    {
      "cell_type": "code",
      "execution_count": null,
      "metadata": {
        "id": "7oQmZ-ghL5tR"
      },
      "outputs": [],
      "source": [
        "a=input(\"enter the number: \")\n",
        "b=input(\"enter the number: \")\n",
        "print(a+b)"
      ]
    },
    {
      "cell_type": "code",
      "execution_count": null,
      "metadata": {
        "id": "WSjeq5HbXvKK"
      },
      "outputs": [],
      "source": [
        "# How can we apply the arthematic operations by uising the input()'s?\n",
        "# we need to mention the numeric data type for input()\n",
        "a=  int(input(\"enter the number: \"))\n",
        "b= int(input(\"enter the number: \"))\n",
        "print(a+b)"
      ]
    },
    {
      "cell_type": "code",
      "execution_count": null,
      "metadata": {
        "id": "YQQS1v1QYStO"
      },
      "outputs": [],
      "source": [
        "s= input(\"enter tghe valid email: \")\n",
        "print(s)\n"
      ]
    },
    {
      "cell_type": "code",
      "execution_count": null,
      "metadata": {
        "id": "6ldV4U7DYiGV"
      },
      "outputs": [],
      "source": [
        "# what is string?\n",
        "# string is a collecrion of multiple characters which are declared inside(\"\")('')\n",
        "#any message that can be written inside the\"\" or '' is know as string"
      ]
    },
    {
      "cell_type": "code",
      "execution_count": null,
      "metadata": {
        "id": "SWILc9y5ZWSQ"
      },
      "outputs": [],
      "source": [
        "# How many types of strings?\n",
        "#single line sting--->('') or(\" \")\n",
        "#multiple string--->(''' ''') or(\"\"\" \"\"\")"
      ]
    },
    {
      "cell_type": "code",
      "execution_count": null,
      "metadata": {
        "id": "cqAhAHtbZ9lN"
      },
      "outputs": [],
      "source": [
        "# string is collection of multiple cahracters where each cahracter is accessible\n",
        "#How can we declare the string?\n",
        "#declared inside(\" \")('')"
      ]
    },
    {
      "cell_type": "code",
      "execution_count": null,
      "metadata": {
        "id": "da0KdqtYasFV"
      },
      "outputs": [],
      "source": [
        "# How can we access the characters inside the sting?\n",
        "#By using indexes and slicing operator we can access the characters inside the string"
      ]
    },
    {
      "cell_type": "code",
      "execution_count": null,
      "metadata": {
        "id": "En_97DBzbIp_"
      },
      "outputs": [],
      "source": [
        "# what is index?\n",
        "# indexing means sequential postion number of each character in the string\n",
        "# the indexing can be starts from '0'"
      ]
    },
    {
      "cell_type": "code",
      "execution_count": null,
      "metadata": {
        "id": "jkkFaVcNdIOx"
      },
      "outputs": [],
      "source": [
        "# what is slicing?\n",
        "# process of getting or accessing a substring from the main string\n",
        "#slicing---> []\n",
        "#what is substring?\n",
        "# a part of string from main string\n",
        "#[index_position number]\n",
        "#i want to print character from below string?\n",
        "h= \"Hello world!\"\n",
        "print(h[0])\n",
        "print(h[5])\n"
      ]
    },
    {
      "cell_type": "code",
      "execution_count": null,
      "metadata": {
        "id": "_R2euLZKhYzS"
      },
      "outputs": [],
      "source": [
        "#print \"hello\" form the below sting?\n",
        "a= \"Hello world!\"\n",
        "#[start:end]\n",
        "print(a[0:5]) # end is always n+1\n",
        "#Note: slicing can be stop before the given end index position number\n",
        "print(a[3:8])"
      ]
    },
    {
      "cell_type": "code",
      "execution_count": null,
      "metadata": {
        "id": "x8JgPmcsh3jr"
      },
      "outputs": [],
      "source": [
        "#print the even index positon characters from the below string?\n",
        "h= \"Hello world!\"\n",
        "#[start:end: step]\n",
        "print(h[0:12:2])"
      ]
    },
    {
      "cell_type": "code",
      "execution_count": null,
      "metadata": {
        "id": "sTEb8xRliLRX"
      },
      "outputs": [],
      "source": [
        "# how can we find the length of a string?\n",
        "#by using len()\n",
        "#in len() it starts with 1\n",
        "print(len(h))\n",
        "print(len(h)-1)# gives the last index"
      ]
    },
    {
      "cell_type": "markdown",
      "metadata": {
        "id": "cd3yNy6wihXc"
      },
      "source": [
        "**Negative indexing**"
      ]
    },
    {
      "cell_type": "code",
      "execution_count": null,
      "metadata": {
        "id": "ntsVgA-qi-AX"
      },
      "outputs": [],
      "source": [
        "  # what is Negative indexing?\n",
        "  # accessing the string characters in reverse direction\n",
        "  #-ve index start with -1\n",
        "  u= \"hello world!\"\n",
        "  print(u[11])\n",
        "  print(u[-1])"
      ]
    },
    {
      "cell_type": "code",
      "execution_count": null,
      "metadata": {
        "id": "OJjcsAAkmzT-",
        "colab": {
          "base_uri": "https://localhost:8080/"
        },
        "outputId": "65a59cfb-b727-4772-954a-034c6b9f15b7"
      },
      "outputs": [
        {
          "output_type": "stream",
          "name": "stdout",
          "text": [
            "!dlrow\n"
          ]
        }
      ],
      "source": [
        "#print the world in reverse direction\n",
        "print(u[-1:-7:-1])\n"
      ]
    },
    {
      "cell_type": "code",
      "execution_count": null,
      "metadata": {
        "id": "vo1rkzlEnANF"
      },
      "outputs": [],
      "source": [
        "l= \"hello world!\"\n",
        "print(l[-7:-1])\n"
      ]
    },
    {
      "cell_type": "markdown",
      "metadata": {
        "id": "lFuVvjl8nJCZ"
      },
      "source": [
        "**default indexing**"
      ]
    },
    {
      "cell_type": "code",
      "execution_count": null,
      "metadata": {
        "id": "hYUkKaEUnPqq"
      },
      "outputs": [],
      "source": [
        "s=\" hello world\"\n",
        "print(s)\n",
        "print(s[:])\n",
        "# what is default postion number of start and end when we use default indexing\n",
        "#[start is 0: end is len(string)]\n",
        "print(s[::])\n",
        "#[start is 0: end is len(string)]: step is 1]\n"
      ]
    },
    {
      "cell_type": "code",
      "execution_count": null,
      "metadata": {
        "id": "R2gIjNhxpTRz",
        "colab": {
          "base_uri": "https://localhost:8080/"
        },
        "outputId": "5df5dfd6-b52d-46cf-ac16-3391ee5d1b3e"
      },
      "outputs": [
        {
          "output_type": "stream",
          "name": "stdout",
          "text": [
            "enter your string: malayalam\n",
            "malayalam\n",
            "mlylm\n"
          ]
        }
      ],
      "source": [
        "# malayalam\n",
        "k= input(\"enter your string: \")\n",
        "print(k[::-1])\n",
        "print(k[::2])"
      ]
    },
    {
      "cell_type": "code",
      "execution_count": null,
      "metadata": {
        "id": "yLTUsJWfplcS"
      },
      "outputs": [],
      "source": [
        "k= \"supriya\"\n",
        "print(k[1::2][0:3]) # subslicing\n",
        "#el\n",
        "print(k[-1])"
      ]
    },
    {
      "cell_type": "code",
      "source": [
        "s = \"Hello Team Good Morning!\"\n",
        "print(s[-1])\n",
        "#print the even characters from the above string\n",
        "# print(s[:])\n",
        "# print(s[0:len(s):1])\n",
        "print(s[::2])\n",
        "#print the odd characters\n",
        "print(s[1::2])"
      ],
      "metadata": {
        "id": "_NSh-qmXDepj"
      },
      "execution_count": null,
      "outputs": []
    },
    {
      "cell_type": "code",
      "source": [
        "#check weather the given strings are palindrome or not\n",
        "#\"mom\", madam, hyderabad, malayalam, karnatak\n",
        "a = input()\n",
        "print(a[::-1])"
      ],
      "metadata": {
        "id": "1p40j-QlDhXA"
      },
      "execution_count": null,
      "outputs": []
    },
    {
      "cell_type": "code",
      "source": [
        "h = \"hello world!\"\n",
        "#use dir()\n",
        "print(dir(h))\n",
        "\"\"\"'capitalize', 'casefold', 'center', 'count', 'encode', 'endswith',\n",
        "'expandtabs', 'find', 'format', 'format_map', 'index', 'isalnum',\n",
        "'isalpha', 'isascii', 'isdecimal', 'isdigit', 'isidentifier', 'islower',\n",
        "'isnumeric', 'isprintable', 'isspace', 'istitle', 'isupper', 'join',\n",
        "'ljust', 'lower', 'lstrip', 'maketrans', 'partition', 'removeprefix',\n",
        "'removesuffix', 'replace', 'rfind', 'rindex', 'rjust', 'rpartition',\n",
        "'rsplit', 'rstrip', 'split', 'splitlines', 'startswith', 'strip',\n",
        "'swapcase', 'title', 'translate', 'upper', 'zfill' \"\"\""
      ],
      "metadata": {
        "id": "xh-ZofjsUvOa"
      },
      "execution_count": null,
      "outputs": []
    },
    {
      "cell_type": "code",
      "source": [
        "#important methods\n",
        "#1. upper()\n",
        "#2. lower()\n",
        "#3. count()\n",
        "#4. replace()\n",
        "#5. swapcase()\n",
        "#6. strip()\n",
        "#7. lstrip()\n",
        "#8. rstrip()\n",
        "#9. capitalize()\n",
        "#10. title()\n",
        "#11. find()\n",
        "#12. index()"
      ],
      "metadata": {
        "id": "6LqRY1y1Uwsd"
      },
      "execution_count": null,
      "outputs": []
    },
    {
      "cell_type": "code",
      "source": [
        "a = \"hello world!\"\n",
        "#how can we apply string methods?\n",
        "print(a.capitalize())\n",
        "print(a.lower())\n",
        "print(a.upper())"
      ],
      "metadata": {
        "id": "k0pA5QZhU2Aa",
        "colab": {
          "base_uri": "https://localhost:8080/"
        },
        "outputId": "26c3b88b-c2f0-4629-dae0-17e3077e9f6e"
      },
      "execution_count": null,
      "outputs": [
        {
          "output_type": "stream",
          "name": "stdout",
          "text": [
            "Hello world!\n",
            "hello world!\n",
            "HELLO WORLD!\n"
          ]
        }
      ]
    },
    {
      "cell_type": "code",
      "source": [
        "h = \"  hello world!   \"\n",
        "print(h)\n",
        "print(h.strip()) #removes the unwanted spaces\n",
        "print(h.lstrip())\n",
        "print(h.rstrip())"
      ],
      "metadata": {
        "id": "Q5gf67ZuU7Ng"
      },
      "execution_count": null,
      "outputs": []
    },
    {
      "cell_type": "code",
      "source": [
        "u = \"hello world!\"\n",
        "#replace the above string \"world\" with universe\n",
        "print(u.replace(\"world\",\"universe\"))\n",
        "#replace(\"old_string\",\"newstring\")"
      ],
      "metadata": {
        "id": "pM-zyDFbVBkC"
      },
      "execution_count": null,
      "outputs": []
    },
    {
      "cell_type": "code",
      "source": [
        "print(u.find(\"k\"))\n",
        "print(u.index('l'))"
      ],
      "metadata": {
        "id": "89lJxb2sVOTu"
      },
      "execution_count": null,
      "outputs": []
    },
    {
      "cell_type": "code",
      "source": [
        "l = \"hello team good morning , team\"\n",
        "print(l.count('team'))\n",
        "#zfill()"
      ],
      "metadata": {
        "id": "43EpKkrGVPCe"
      },
      "execution_count": null,
      "outputs": []
    },
    {
      "cell_type": "code",
      "source": [
        "z = \"hello\"\n",
        "print(z.zfill(6))"
      ],
      "metadata": {
        "id": "WgothNsuVSOG",
        "colab": {
          "base_uri": "https://localhost:8080/"
        },
        "outputId": "82eac81c-0074-4e65-adf2-2798ace18b4d"
      },
      "execution_count": null,
      "outputs": [
        {
          "output_type": "stream",
          "name": "stdout",
          "text": [
            "0hello\n"
          ]
        }
      ]
    },
    {
      "cell_type": "markdown",
      "source": [
        "*** string format methods***"
      ],
      "metadata": {
        "id": "eRfGK2gJLDlP"
      }
    },
    {
      "cell_type": "code",
      "source": [
        "age = 10\n",
        "txt = f\"i am {age} years old\"\n",
        "print(txt,age)\n",
        "#string formatting means it takes an argument and place it over the placeholder {}\n"
      ],
      "metadata": {
        "id": "xUGg2FBVVXO8"
      },
      "execution_count": null,
      "outputs": []
    },
    {
      "cell_type": "code",
      "source": [
        "name = \"product A\"\n",
        "quantity = 10\n",
        "price_each = 99.9\n",
        "notification = f\"your order for {name} has been confirmed with an quantity of {quantity} and total price {price_each*quantity}/-\"\n",
        "print(notification)"
      ],
      "metadata": {
        "id": "LknOBTqqLMnp"
      },
      "execution_count": null,
      "outputs": []
    },
    {
      "cell_type": "markdown",
      "source": [
        "  **escape characters**"
      ],
      "metadata": {
        "id": "7TijPmgULQ2K"
      }
    },
    {
      "cell_type": "code",
      "source": [
        "#EC is used to print the illegal characters in the string -->it is decalred in backward slash(\\) infront of illegal characters\n",
        "a = \"hi team \\\"good day\\\" hope you are doing well\"\n",
        "print(a)"
      ],
      "metadata": {
        "id": "UZT1UsWeLVB8"
      },
      "execution_count": null,
      "outputs": []
    },
    {
      "cell_type": "markdown",
      "source": [
        "**conditional statements**"
      ],
      "metadata": {
        "id": "NJui9rqauoOe"
      }
    },
    {
      "cell_type": "code",
      "source": [
        "     #what is conditional statemnets? and why we are using conditional statements?\n",
        "     #to check the condition is satisfied or not satisfied\n",
        "     #to make decission in programming we use conditional statements\n",
        "     #we are having 3 conditions\n",
        "     #if--->else--->else"
      ],
      "metadata": {
        "id": "kmwqsrJIigAv"
      },
      "execution_count": null,
      "outputs": []
    },
    {
      "cell_type": "code",
      "source": [
        "#how can you make this condition are satisfied or not satisfied\n",
        "#how can we check the conditions?\n",
        "#we are checking conditions based on \"comparision operators\"\n",
        "#what is comparision operators and how many types?\n",
        "#comparision operators also known as \"relational operators\"\n",
        "\"\"\" 1. equals too---> ==\n",
        "    2. not equals too---->!=\n",
        "    3. greater than----> >\n",
        "    4. less that--->  <\n",
        "    5. greater than or equal to---> >=\n",
        "    6. less than or equal to --->  <= \"\"\""
      ],
      "metadata": {
        "id": "H4RKkaaduvCh"
      },
      "execution_count": null,
      "outputs": []
    },
    {
      "cell_type": "code",
      "source": [
        "# write a program to check weather the student is pass or fail\n",
        "pass_marks = 40\n",
        "student_marks=int(input(\"enter your marks: \"))\n",
        "if student_marks >= pass_marks:\n",
        "  print(\"congratulation you are qualified\")\n",
        "else:\n",
        "  print(\"better luck next time   \")"
      ],
      "metadata": {
        "id": "hsGT0MoUwVPa"
      },
      "execution_count": null,
      "outputs": []
    },
    {
      "cell_type": "code",
      "source": [
        "#write a program to print weather the given number is +ve or -ve if it is zero means print nuetral\n",
        "a= int(input(\"enter the number: \"))\n",
        "if a>0:\n",
        "  print(\"positive\")\n",
        "elif a==0:\n",
        "  print(\"neutral\")\n",
        "else:\n",
        "  print(\"-ve\")\n"
      ],
      "metadata": {
        "id": "qKyt9A1_yn7c"
      },
      "execution_count": null,
      "outputs": []
    },
    {
      "cell_type": "code",
      "source": [
        "#write a program to check weather the given number is even or odd?\n",
        "# if num is even print \"even\" or else print odd\n",
        "a=int(input(\"enter the number: \"))\n",
        "if a%2== 0:\n",
        "  print(\"even\")\n",
        "else:\n",
        "  print(\"odd\")"
      ],
      "metadata": {
        "id": "cQISVL_-ynz4"
      },
      "execution_count": null,
      "outputs": []
    },
    {
      "cell_type": "code",
      "source": [
        "# check weather the given numbers prime number or not?\n",
        "a= int(input(\"enter your number: \"))\n",
        "if a/a\n",
        "#check weather the given string is palindrome or not\n",
        "#mom,malayalam,\n",
        "#check weather the given string is palindrome or not irrespective of letter case\n",
        "print(\"a\" == \"A\")\n",
        "print(\"Hello\" == \"hello\")\n",
        "print(\"MoM\" == \"mom\")\n",
        "a  = input(\"enter your string: \")\n",
        "if a.lower() == a[::-1].lower():\n",
        "  print(\"yes palindrome\")\n",
        "else:\n",
        "  print(\"Not Palindrome\")"
      ],
      "metadata": {
        "id": "puyVj6QIynpp"
      },
      "execution_count": null,
      "outputs": []
    },
    {
      "cell_type": "markdown",
      "source": [
        "*** Logical operators***"
      ],
      "metadata": {
        "id": "HZJKuQ39t2nI"
      }
    },
    {
      "cell_type": "code",
      "source": [
        "# to check the multiple conditions at a time we need to use logical operators\n",
        "# there are 3 types of logical operators\n",
        "#1. and:- excutes the program when all the conditions are true\n",
        "#2. or:- excutes the program if any one condition is satisfied or true\n",
        "#3. not:- it reverse your actual output\n",
        "print(1==1)\n",
        "print(not(1==1))"
      ],
      "metadata": {
        "id": "HwCc9Eklt-ER"
      },
      "execution_count": null,
      "outputs": []
    },
    {
      "cell_type": "code",
      "source": [
        "#1.and:- excutes the program when all the conditions are true\n",
        "a=455\n",
        "b= 56\n",
        "c=60\n",
        "d=25\n",
        "#check that a is greater than c and b is greater than d and d is less than c\n",
        "# if these conditions are true or satisfied print all the conditions satisfied else print no condition satisfied\n",
        "if a>c and b>d and d<c:\n",
        "  print(\" all the conditions satisfied\")\n",
        "else:\n",
        "  print(\"anu one condition is not satisfied\")"
      ],
      "metadata": {
        "colab": {
          "base_uri": "https://localhost:8080/"
        },
        "id": "5Q9HcR3NwuEE",
        "outputId": "39462b93-8e5a-43bf-a514-1d12c75e3d38"
      },
      "execution_count": null,
      "outputs": [
        {
          "output_type": "stream",
          "name": "stdout",
          "text": [
            " all the conditions satisfied\n"
          ]
        }
      ]
    },
    {
      "cell_type": "code",
      "source": [
        "#2. or:- excutes the program if any one condition is satisfied or true\n",
        "a=455\n",
        "b= 56\n",
        "c=60\n",
        "d=25\n",
        "#from above data check if any one condition is satisfied execute the program\n",
        "# check a less than b and b is less than c and c is greater than a and d is less than a\n",
        "if a<b or b<c or c>a or d<a:\n",
        "  print(\"true\")\n",
        "else:\n",
        "  print(\"false\")"
      ],
      "metadata": {
        "id": "TMlP6LiVza7p"
      },
      "execution_count": null,
      "outputs": []
    },
    {
      "cell_type": "code",
      "source": [
        "#2. or:- excutes the program if any one condition is satisfied or true\n",
        "a=455\n",
        "b= 56\n",
        "c=60\n",
        "d=25\n",
        "#from above data check if any one condition is satisfied execute the program\n",
        "# check a less than b and b is less than c and c is greater than a and d is less than a\n",
        "if a<b or b<c or c>a or d<a and a>300:\n",
        "  print(\"true\")\n",
        "else:\n",
        "  print(\"false\")"
      ],
      "metadata": {
        "id": "DRmc9Y3Y1IPH"
      },
      "execution_count": null,
      "outputs": []
    },
    {
      "cell_type": "code",
      "source": [
        "# write a program to check weather the user is eligible for adventure ride or not\n",
        "# if the age is between 15 to 4o they are eligible for ride\n",
        "#below 5 is not not eligible for ride\n",
        "#above 40 print please choose another ride\n",
        "a= int(input(\"enter your age: \"))\n",
        "if a>=15 and a<=40:\n",
        "  print(\"eligible for ride\")\n",
        "elif a>40:\n",
        "  print(\" choose another ride\")\n",
        "else:\n",
        "  print(\"not eligible for ride\")\n"
      ],
      "metadata": {
        "colab": {
          "base_uri": "https://localhost:8080/"
        },
        "id": "ROG4m7Ef3wQO",
        "outputId": "d11a2b93-638b-4568-dd98-45b79985bd41"
      },
      "execution_count": null,
      "outputs": [
        {
          "output_type": "stream",
          "name": "stdout",
          "text": [
            "enter your age: 30\n",
            "eligible for ride\n"
          ]
        }
      ]
    },
    {
      "cell_type": "code",
      "source": [
        "# what is nested condition?\n",
        "#writing a condition inside the another condition is known as nested condition\n",
        "# why we require nested condition or when we have to use nested condition?\n",
        "# a condition can be executed if the previous step or condition is satisfied\n",
        "# if you want a series of outputs then we use nested conditions\n",
        "a = 30\n",
        "# check if a is a gerater than 10,20,30,40,50,60\n",
        "#print( a is greater than 10)\n",
        "#print( a is greater than 20)\n",
        "#print( a is greater than 30)\n",
        "#print( a is less than 40)\n",
        "if a > 10:\n",
        "  print(\"a is greater than 10\")\n",
        "  if a > 20:\n",
        "    print(\"a is greater than 20\")\n",
        "    if a > 30:\n",
        "      print(\"a is greater than 30\")\n",
        "      if a > 40:\n",
        "        print(\"a is greater than 40\")\n",
        "      else:\n",
        "        print(\" a is less than 40\")\n",
        "    else:\n",
        "      print(\" a is less than 30\")\n",
        "  else:\n",
        "    print(\"a is less than 20\")\n",
        "else:\n",
        "  print(\"a is less than 10\")\n"
      ],
      "metadata": {
        "id": "Ii94dEC87cwH"
      },
      "execution_count": null,
      "outputs": []
    },
    {
      "cell_type": "code",
      "source": [
        "#write a program based on marks of the student print the grades\n",
        "# if the student is getting marks from 40 to 50----> print \"you have received \"d\" grade\"\n",
        "# if the student is getting marks from 51 to 60----> print \"you have received \"c\" grade\"\n",
        "# if the student is getting marks from 61 to 70----> print \"you have received \"B\" grade\"\n",
        "# if the student is getting marks from 71 to 80----> print \"you have received \"B+\" grade\"\n",
        "# if the student is getting marks from 81 to 90----> print \"you have received \"A\" grade\"\n",
        "# if the student is getting marks from 91 to 100----> print \"you have received \"A+\" grade\"\n",
        "# if the student is getting marks more than 100----> print \"Don't be smart\"\n",
        "#write the code by using nested condition alomg with elif"
      ],
      "metadata": {
        "id": "OvaSmzZj-nuN"
      },
      "execution_count": null,
      "outputs": []
    },
    {
      "cell_type": "markdown",
      "source": [
        "**Loops**"
      ],
      "metadata": {
        "id": "JMwOZh1W5E4O"
      }
    },
    {
      "cell_type": "code",
      "source": [
        "#Loops\n",
        "#loops are defined as SET of instructions or set of rules\n",
        "#what is the purpose of loops?\n",
        "#The purpose of loops is to avoid the duplicate codes\n",
        "#loops encourages to write DRY codes and to avoid WET codes\n",
        "#How many types of codes?\n",
        "#2types\n",
        "#WET codes---> write everything twice\n",
        "#DRY Codes--> don't repeat yourself"
      ],
      "metadata": {
        "id": "Wl3ZzLQ-q-74"
      },
      "execution_count": null,
      "outputs": []
    },
    {
      "cell_type": "code",
      "source": [
        "#How many types ?\n",
        "#two types\n",
        "#While loop\n",
        "#for loop"
      ],
      "metadata": {
        "id": "C_M6O2O95VMG"
      },
      "execution_count": null,
      "outputs": []
    },
    {
      "cell_type": "markdown",
      "source": [
        "**while loop**"
      ],
      "metadata": {
        "id": "S6C1dul15ZU8"
      }
    },
    {
      "cell_type": "code",
      "source": [
        "#what is while loop?\n",
        "#while loop is a set of instructions, runs untile the condition remians true\n",
        "target = 5\n",
        "initial = 1\n",
        "while initial <= target:\n",
        "  print(\"go up\")\n",
        "  print(\"go down\")\n",
        "  print(\"=========rep completed=========\")\n",
        "  initial = initial + 1"
      ],
      "metadata": {
        "id": "NSDslRGN5WfT"
      },
      "execution_count": null,
      "outputs": []
    },
    {
      "cell_type": "code",
      "source": [
        "print(1 <= 5)\n",
        "print(2 <= 5)\n",
        "print(3 <= 5)\n",
        "print(4 <= 5)\n",
        "print(5 <= 5)\n",
        "print(6 <= 5)"
      ],
      "metadata": {
        "id": "ZQcdf46T5oV1"
      },
      "execution_count": null,
      "outputs": []
    },
    {
      "cell_type": "code",
      "source": [
        "#write a basic program to run a lift if the user is given 4 stop the lift at 4th floor\n",
        "user_input= int(input(\"enter the floor: \"))\n",
        "intial = 1\n",
        "while intial <= user_input:\n",
        "  print(f'you are at {intial} floor')\n",
        "  intial = intial+1"
      ],
      "metadata": {
        "id": "S_1bMhro54J-"
      },
      "execution_count": null,
      "outputs": []
    },
    {
      "cell_type": "code",
      "source": [
        "a = [1,2,3,4,5,6,7,8,9]\n",
        "#print multiples of 2 in above list\n",
        "#[2,4,6,8,10,12,14,16,18]\n",
        "print(a*2)"
      ],
      "metadata": {
        "id": "pcww2OJt-Cb-",
        "colab": {
          "base_uri": "https://localhost:8080/"
        },
        "outputId": "8af4275d-9b24-4b63-aa59-826a569b3d77"
      },
      "execution_count": null,
      "outputs": [
        {
          "output_type": "stream",
          "name": "stdout",
          "text": [
            "[1, 2, 3, 4, 5, 6, 7, 8, 9, 1, 2, 3, 4, 5, 6, 7, 8, 9]\n"
          ]
        }
      ]
    },
    {
      "cell_type": "markdown",
      "source": [
        "**for loop**\n",
        "\n",
        "-->Running a set of instruction over the collections"
      ],
      "metadata": {
        "id": "NIuClH3X-JuW"
      }
    },
    {
      "cell_type": "code",
      "source": [
        "a = [1,2,3,4,5,6,7,8,9]\n",
        "for i in a:            #i is known as iterator and process of iterationg is known as iterations\n",
        "    print(i*2, end=\",\")   #end act like a delimeter is n othing but special character seprating each item in dataset\n"
      ],
      "metadata": {
        "colab": {
          "base_uri": "https://localhost:8080/"
        },
        "id": "jhKXnT7F7qXI",
        "outputId": "d4789cca-511b-44cc-d1d1-61bcecf8f569"
      },
      "execution_count": null,
      "outputs": [
        {
          "output_type": "stream",
          "name": "stdout",
          "text": [
            "[1, 2, 3, 4, 5, 6, 7, 8, 9, 1, 2, 3, 4, 5, 6, 7, 8, 9]\n"
          ]
        }
      ]
    },
    {
      "cell_type": "code",
      "source": [
        "a = [1,2,3,4,5,6,7,8,9]\n",
        "for i in a:\n",
        "  print(\"Hello world!\")"
      ],
      "metadata": {
        "id": "R5dsnRt-Da52"
      },
      "execution_count": null,
      "outputs": []
    },
    {
      "cell_type": "code",
      "source": [
        "#\n",
        "b = \"Hello\"\n",
        "for i in b:\n",
        "  print(b)\n"
      ],
      "metadata": {
        "id": "dRN5xxplEM1Z"
      },
      "execution_count": null,
      "outputs": []
    },
    {
      "cell_type": "code",
      "source": [
        "x= \"iam supriya good girl\"\n",
        "for i in x:\n",
        "  print(x)"
      ],
      "metadata": {
        "id": "XOs9SirulhlR"
      },
      "execution_count": null,
      "outputs": []
    },
    {
      "cell_type": "markdown",
      "source": [
        "**Break and continue**"
      ],
      "metadata": {
        "id": "V6ygSBtlESlA"
      }
    },
    {
      "cell_type": "code",
      "source": [
        "#Break:- it stops entire loop ireespective of items in the collections\n",
        "num = [1,2,3,4,5,6,7,8,9]\n",
        "for i in num:\n",
        "  print(i)\n",
        "  if i == 5:\n",
        "    break"
      ],
      "metadata": {
        "id": "KJE3Q3tQERl6"
      },
      "execution_count": null,
      "outputs": []
    },
    {
      "cell_type": "code",
      "source": [
        "#conitnue:- is used to skip the current iterations\n",
        "num = [1,2,3,4,5,6,7,8,9]\n",
        "for i in num:\n",
        "  #skip the 3, 6, 9 from above collection and print all\n",
        "  if i == 3 or i == 6 or i == 9:\n",
        "    continue\n",
        "  print(i,end=\" \")\n",
        "#Note:- we dob't have multiple breaks but we can skip multiple items at a time by using continue with 'or' operator"
      ],
      "metadata": {
        "id": "dtNK27SGEeJ8"
      },
      "execution_count": null,
      "outputs": []
    },
    {
      "cell_type": "markdown",
      "source": [
        "*** range***"
      ],
      "metadata": {
        "id": "At8wUVyJIbeX"
      }
    },
    {
      "cell_type": "code",
      "source": [
        "#range(end_number)\n",
        "for i in range(11):\n",
        "  print(i, end=\" \")"
      ],
      "metadata": {
        "id": "4TxSaKui-T-s"
      },
      "execution_count": null,
      "outputs": []
    },
    {
      "cell_type": "code",
      "source": [
        "#range(start, end)\n",
        "for i in range(1,5):\n",
        "  print(i)"
      ],
      "metadata": {
        "id": "TnIx7k2xIfrA"
      },
      "execution_count": null,
      "outputs": []
    },
    {
      "cell_type": "code",
      "source": [
        "#range(start,end,step)\n",
        "for i in range(0,100,2):\n",
        "  print(i, end =\",\")"
      ],
      "metadata": {
        "id": "e8atBSICIjc8"
      },
      "execution_count": null,
      "outputs": []
    },
    {
      "cell_type": "markdown",
      "source": [
        "*** collections***"
      ],
      "metadata": {
        "id": "PP3bFwIXKEKQ"
      }
    },
    {
      "cell_type": "code",
      "source": [
        "#There are 4 types\n",
        "#1. List\n",
        "#2. Tuple\n",
        "#3. set\n",
        "#4. Dictionary"
      ],
      "metadata": {
        "id": "9wYDESYrKGnJ"
      },
      "execution_count": null,
      "outputs": []
    },
    {
      "cell_type": "code",
      "source": [
        "#There are two types of data in the collections\n",
        "#1. Heterogenous data:- it is a collection of multiple data items for ex:- int,float,complex,strings..etc\n",
        "#2. Homogenous Data:-  it is a collection of only one  data type. for ex:- either int, either float"
      ],
      "metadata": {
        "id": "0iX-VhdUKJCh"
      },
      "execution_count": null,
      "outputs": []
    },
    {
      "cell_type": "markdown",
      "source": [
        "list"
      ],
      "metadata": {
        "id": "wWqwqqBTKVf9"
      }
    },
    {
      "cell_type": "code",
      "source": [
        "#what is a list?\n",
        "#list can be decalred in --> []-->each element in list is separated by (,)\n",
        "#List is defined as---> ordered, Muttable, and allows duplicates"
      ],
      "metadata": {
        "id": "IpiPHyExKJaX"
      },
      "execution_count": null,
      "outputs": []
    },
    {
      "cell_type": "markdown",
      "source": [
        "list allow the duplicates"
      ],
      "metadata": {
        "id": "yPyy3tkfLjWY"
      }
    },
    {
      "cell_type": "code",
      "source": [
        "#lets create a list\n",
        "l1 = [\"apple\",\"banana\",\"kiwi\",\"pineapple\",\"watermelon\",\"apple\",\"pineapple\"]\n",
        "print(l1)\n",
        "#what is the length of above list?\n",
        "print(len(l1))"
      ],
      "metadata": {
        "id": "UAIButZQKKSs"
      },
      "execution_count": null,
      "outputs": []
    },
    {
      "cell_type": "markdown",
      "source": [
        "list ordered\n",
        "\n",
        "---\n",
        "\n"
      ],
      "metadata": {
        "id": "0sp-i9nhKpyY"
      }
    },
    {
      "cell_type": "code",
      "source": [
        "#what is ordered?\n",
        "#elements or items in the collection is having a sequence of index position numbers\n",
        "l2 = [\"apple\",\"banana\",\"kiwi\",\"pineapple\",\"watermelon\",\"apple\",\"pineapple\"]\n",
        "#from the above list print \"kiwi\"\n",
        "#[index_position number]\n",
        "print(l2[2])"
      ],
      "metadata": {
        "id": "y5eDmIGpKKrJ"
      },
      "execution_count": null,
      "outputs": []
    },
    {
      "cell_type": "code",
      "source": [
        "#from above list print a range of items from banana to watermelon\n",
        "#[start_index:end_index] # end_index is always n+1\n",
        "print(l2[1:5])"
      ],
      "metadata": {
        "id": "7PgwiaQ5Kj3a"
      },
      "execution_count": null,
      "outputs": []
    },
    {
      "cell_type": "code",
      "source": [
        "#from above list i want even positional characters\n",
        "#[start:end:step]\n",
        "print(l2[0:7:2])\n",
        "#similaralr print the odd position characters\n",
        "print(l2[1:7:2])"
      ],
      "metadata": {
        "id": "U5vfiJUAKkTu"
      },
      "execution_count": null,
      "outputs": []
    },
    {
      "cell_type": "markdown",
      "source": [
        "negative indexing"
      ],
      "metadata": {
        "id": "sE24buFWL4Lw"
      }
    },
    {
      "cell_type": "code",
      "source": [
        "#whta is -ve Indexing?\n",
        "#accessing the elements from collection in reverse direction\n",
        "#Negative indexing starts from -1\n",
        "l3 = ['banana', 'kiwi', 'pineapple', 'watermelon']\n",
        "print(l3[3])\n",
        "print(l3[-1])"
      ],
      "metadata": {
        "id": "UOvLG5OtKksr"
      },
      "execution_count": null,
      "outputs": []
    },
    {
      "cell_type": "code",
      "source": [
        "#can we print the range of items by using negative indexing by giving start:end\n",
        "# print(l3[-1:-4])\n",
        "# print(l3[-1:-5:-1])\n",
        "print(l3[-4:-1])\n",
        "\"\"\"Note:- when we are using negative indexing if the index number is from left to\n",
        "right direction then we no need to define the step value as -1 other wise\n",
        "if we want to reeverse any collection from right to left  then in slicing we need\n",
        "to define step as -1\"\"\""
      ],
      "metadata": {
        "id": "g3N2UHKAL6pm"
      },
      "execution_count": null,
      "outputs": []
    },
    {
      "cell_type": "markdown",
      "source": [
        "default indexing"
      ],
      "metadata": {
        "id": "OceFpgxSMEtv"
      }
    },
    {
      "cell_type": "code",
      "source": [
        "#what is default indexing?\n",
        "#By default [start is 0: end is len(collection): step is 1]\n",
        "l4 = ['banana', 'kiwi', 'pineapple', 'watermelon']\n",
        "# print(l4[:])\n",
        "# print(l4[::])\n",
        "print(l4[::2])\n",
        "print(l4[1::2])\n",
        "print(l4[::-1])   #it reverse entire collections"
      ],
      "metadata": {
        "id": "9TPausONL7M1"
      },
      "execution_count": null,
      "outputs": []
    },
    {
      "cell_type": "markdown",
      "source": [
        "**List is Muttable**\n",
        "\n",
        "Mutable means it follows three properities\n",
        "\n",
        "-- swapping or replace items from your collections\n",
        "\n",
        "-- Additng new items to the collection\n",
        "\n",
        "-- remove items from the collection\n",
        "\n"
      ],
      "metadata": {
        "id": "AMD0DQtJMOMx"
      }
    },
    {
      "cell_type": "code",
      "source": [
        "\n",
        "# swapping or replace items from your list\n",
        "l5 = ['R','PYTHON','JAVA','C++','C']\n",
        "#replace the \"R\" with .net\n",
        "#Note:- By using the index position numbers we replace the items from the collection\n",
        "l5[0] = \".net\"\n",
        "print(l5)"
      ],
      "metadata": {
        "id": "RfeQMsnmMWhC"
      },
      "execution_count": null,
      "outputs": []
    },
    {
      "cell_type": "code",
      "source": [
        " #Additng new items to the existing list\n",
        "#in above l5 add \"css\" in the list\n",
        "print(dir(l5))\n",
        "\"\"\"'append', 'clear', 'copy', 'count', 'extend', 'index',\n",
        "'insert', 'pop', 'remove', 'reverse', 'sort'\"\"\""
      ],
      "metadata": {
        "id": "F-bJ013QMchW"
      },
      "execution_count": null,
      "outputs": []
    },
    {
      "cell_type": "code",
      "source": [
        "#1st :- Append() by default it adds the items at the end of the list\n",
        "#what is the default index position ehrn you add items in list by using append()?\n",
        "l6 = ['.net', 'PYTHON', 'JAVA', 'C++', 'C']\n",
        "l6.append('css')\n",
        "print(l6)"
      ],
      "metadata": {
        "id": "j1t3U0YeMkMx"
      },
      "execution_count": null,
      "outputs": []
    },
    {
      "cell_type": "code",
      "source": [
        "#insert() :- it adds the items at particular index position?\n",
        "l6.insert(2,'javascript')\n",
        "l6"
      ],
      "metadata": {
        "id": "iRtbeu18Ng1e"
      },
      "execution_count": null,
      "outputs": []
    },
    {
      "cell_type": "code",
      "source": [
        "st = 'Happy Christmas and Happy new year'\n",
        "\n",
        "\n",
        "x = st.rsplit(\"Happy\")  # Split by \"Happy\"\n",
        "\n",
        "print(x)"
      ],
      "metadata": {
        "id": "ZjPMYpFievx8"
      },
      "execution_count": null,
      "outputs": []
    },
    {
      "cell_type": "code",
      "source": [
        "a = \"hello world and hello\"\n",
        "print(a.split())\n",
        "print(a.rsplit(\"hello\"))"
      ],
      "metadata": {
        "id": "QRTtzUFhewsr"
      },
      "execution_count": null,
      "outputs": []
    },
    {
      "cell_type": "code",
      "source": [
        "if __name__ == '__main__':"
      ],
      "metadata": {
        "id": "TyHvZnxxezmY"
      },
      "execution_count": null,
      "outputs": []
    },
    {
      "cell_type": "code",
      "source": [
        "#Adding new items to the existing list\n",
        "#what are all methods we can apply on specific object?\n",
        "l6 = ['R','PYTHON','JAVA','C++','C']\n",
        "print(dir(l6))\n",
        "#1.append():- by default i adds the items add the end of the list\n",
        "l6.append('CSS')\n",
        "l6\n",
        "#cab we add multiple items at a time by using the append function\n",
        "#we cannot add why because append() can takes only one argument\n",
        "l7 = [1,2,3,4,5]\n",
        "l6.append(l7)\n",
        "l6"
      ],
      "metadata": {
        "id": "9B09ML8Ge7lo",
        "colab": {
          "base_uri": "https://localhost:8080/"
        },
        "outputId": "87beca14-aa11-4769-e035-7023674d540f"
      },
      "execution_count": null,
      "outputs": [
        {
          "output_type": "stream",
          "name": "stdout",
          "text": [
            "['__add__', '__class__', '__class_getitem__', '__contains__', '__delattr__', '__delitem__', '__dir__', '__doc__', '__eq__', '__format__', '__ge__', '__getattribute__', '__getitem__', '__gt__', '__hash__', '__iadd__', '__imul__', '__init__', '__init_subclass__', '__iter__', '__le__', '__len__', '__lt__', '__mul__', '__ne__', '__new__', '__reduce__', '__reduce_ex__', '__repr__', '__reversed__', '__rmul__', '__setattr__', '__setitem__', '__sizeof__', '__str__', '__subclasshook__', 'append', 'clear', 'copy', 'count', 'extend', 'index', 'insert', 'pop', 'remove', 'reverse', 'sort']\n"
          ]
        },
        {
          "output_type": "execute_result",
          "data": {
            "text/plain": [
              "['R', 'PYTHON', 'JAVA', 'C++', 'C', 'CSS', [1, 2, 3, 4, 5]]"
            ]
          },
          "metadata": {},
          "execution_count": 13
        }
      ]
    },
    {
      "cell_type": "code",
      "source": [
        "#if i want to add the items at particular index position? what method we need to use?\n",
        "l8 = [1,2,3,4,6,7,8,9]\n",
        "#add the '5' at 4th index position\n",
        "l8.insert(4,5)\n",
        "l8\n",
        "#syntax:- insert(index_position, element)\n",
        "#can we insert multiple items at a time?\n",
        "#No we cannot why beacuse insert can take only two arguments one is index position and another one is element"
      ],
      "metadata": {
        "id": "Fb_CS5o0fLJH"
      },
      "execution_count": null,
      "outputs": []
    },
    {
      "cell_type": "code",
      "source": [
        "#How can we add the multiple items to the exisiting list?\n",
        "# use 'extend()' adds the multiple items from any collection to the existing list\n",
        "l9 = ['R', 'PYTHON', 'JAVA', 'C++', 'C', 'CSS']\n",
        "l10 = ['apple','banana','pineapple']\n",
        "#add the l10 in to l9\n",
        "l9.extend(l10)\n",
        "print(l9)\n",
        "#what is default index position when you use the extend()?\n",
        "#the items are adding at the end of the existing list\n"
      ],
      "metadata": {
        "id": "4yFS2rKKfWgo",
        "colab": {
          "base_uri": "https://localhost:8080/"
        },
        "outputId": "b5a3f8de-1760-4283-8bbe-481a20f044b5"
      },
      "execution_count": null,
      "outputs": [
        {
          "output_type": "stream",
          "name": "stdout",
          "text": [
            "['R', 'PYTHON', 'JAVA', 'C++', 'C', 'CSS', 'apple', 'banana', 'pineapple']\n"
          ]
        }
      ]
    },
    {
      "cell_type": "markdown",
      "source": [
        "Remove the items from the list"
      ],
      "metadata": {
        "id": "QOxcDnpufeXe"
      }
    },
    {
      "cell_type": "code",
      "source": [
        "#1. Pop() is used remove the items from the list and by default it removes last item of the list\n",
        "l11 = ['R', 'PYTHON', 'JAVA', 'C++', 'C', 'CSS', 'apple', 'banana', 'pineapple']\n",
        "l11.pop()"
      ],
      "metadata": {
        "id": "KxRQRJxVfaSd",
        "colab": {
          "base_uri": "https://localhost:8080/",
          "height": 35
        },
        "outputId": "3009b851-7dae-4c29-88c1-6422b88aeb57"
      },
      "execution_count": null,
      "outputs": [
        {
          "output_type": "execute_result",
          "data": {
            "text/plain": [
              "'pineapple'"
            ],
            "application/vnd.google.colaboratory.intrinsic+json": {
              "type": "string"
            }
          },
          "metadata": {},
          "execution_count": 15
        }
      ]
    },
    {
      "cell_type": "code",
      "source": [
        "# print(l11)\n",
        "l11.pop(-1)"
      ],
      "metadata": {
        "id": "Gq4mHRE2foA6"
      },
      "execution_count": null,
      "outputs": []
    },
    {
      "cell_type": "code",
      "source": [
        "#Note:- pop(index_position_num) to remove the particular item and by default it removes last item of the list\n",
        "l11.remove() #we need to give atleast one argument"
      ],
      "metadata": {
        "id": "Phf2lvd-frjY"
      },
      "execution_count": null,
      "outputs": []
    },
    {
      "cell_type": "code",
      "source": [
        "#2. remove() is used to remove the pecific item, So remove(item_name) id doesn't take index position\n",
        "#from above list remove the \"R\" Language\n",
        "l11.remove('R')\n",
        "print(l11)\n",
        "#Note:- we cannot remove the multiple items at a time by using remove() method"
      ],
      "metadata": {
        "id": "BH4qM5ykfr2O"
      },
      "execution_count": null,
      "outputs": []
    },
    {
      "cell_type": "code",
      "source": [
        "#3.How can we remove multiple items from the list?\n",
        "#  del collection_name[start:end:step]   by usine delete method\n",
        "del l11[1:4]\n",
        "l11"
      ],
      "metadata": {
        "id": "f1LcXrhXfsQE",
        "colab": {
          "base_uri": "https://localhost:8080/"
        },
        "outputId": "d2a8f1a7-5222-4143-bc39-f589663b193f"
      },
      "execution_count": null,
      "outputs": [
        {
          "output_type": "execute_result",
          "data": {
            "text/plain": [
              "['PYTHON', 'CSS', 'apple']"
            ]
          },
          "metadata": {},
          "execution_count": 19
        }
      ]
    },
    {
      "cell_type": "code",
      "source": [
        "#4. i want to remove only items from the list\n",
        "l12 = ['PYTHON', 'JAVA', 'C++', 'C', 'CSS', 'apple']\n",
        "#use the  clear() to remove all the items from the list and print the empty list\n",
        "#can we use del to remove entire items from the list---> yes we can use del method with slicing operator\n",
        "\n",
        "l12.clear()\n",
        "print(l12)"
      ],
      "metadata": {
        "id": "JFJ9wSGRf_HT"
      },
      "execution_count": null,
      "outputs": []
    },
    {
      "cell_type": "code",
      "source": [
        "#5. how can we delete the entire list\n",
        "# use \"del collection_name\"\n",
        "del l12\n",
        "print(l12)"
      ],
      "metadata": {
        "id": "Dyb4oebfgGFT"
      },
      "execution_count": null,
      "outputs": []
    },
    {
      "cell_type": "markdown",
      "source": [
        "tuple"
      ],
      "metadata": {
        "id": "UAHcGRT-gINz"
      }
    },
    {
      "cell_type": "code",
      "source": [
        "#what is a tuple  and how to create this tuple?\n",
        "#Tuple is decalred in ()\n",
        "#Tuple is Ordered, Immutable, and allows the duplicates"
      ],
      "metadata": {
        "id": "hDJt83l_gJgf"
      },
      "execution_count": null,
      "outputs": []
    },
    {
      "cell_type": "markdown",
      "source": [
        "tuple allows the duplicates"
      ],
      "metadata": {
        "id": "nYDCXVeRgcQQ"
      }
    },
    {
      "cell_type": "code",
      "source": [
        "t1 = ('apple','bananan','mango','apple','apple','pineapple')\n",
        "print(len(t1))\n",
        "print(type(t1))\n",
        "print(t1)"
      ],
      "metadata": {
        "id": "PZ_VQ_j6gNK8"
      },
      "execution_count": null,
      "outputs": []
    },
    {
      "cell_type": "markdown",
      "source": [
        "Tuples are ordered"
      ],
      "metadata": {
        "id": "gkQ6jbOrhCM2"
      }
    },
    {
      "cell_type": "code",
      "source": [
        "#In tuples the items are in sequence of index position number\n",
        "#By using index_position number we can access the items from the tuple\n",
        "print(t1[2])\n",
        "print(t1[1:5])\n",
        "#reverse the entire tuple\n",
        "print(t1[::-1])"
      ],
      "metadata": {
        "id": "MPgOa_uvhAES",
        "colab": {
          "base_uri": "https://localhost:8080/"
        },
        "outputId": "e09d3c3c-a1f3-4431-8f53-f58c5460237e"
      },
      "execution_count": null,
      "outputs": [
        {
          "output_type": "stream",
          "name": "stdout",
          "text": [
            "mango\n",
            "('bananan', 'mango', 'apple', 'apple')\n",
            "('pineapple', 'apple', 'apple', 'mango', 'bananan', 'apple')\n"
          ]
        }
      ]
    },
    {
      "cell_type": "markdown",
      "source": [
        "Tuple is immutable"
      ],
      "metadata": {
        "id": "_yg3xo0nhVeE"
      }
    },
    {
      "cell_type": "code",
      "source": [
        "#we cannot replace, add and remove the items from tuple\n",
        "print(dir(t1))"
      ],
      "metadata": {
        "id": "brHnZHzshAee"
      },
      "execution_count": null,
      "outputs": []
    },
    {
      "cell_type": "code",
      "source": [
        "t1[4] = \"watermelon\"\n",
        "print(t1)"
      ],
      "metadata": {
        "id": "kGazGR_Sha-W"
      },
      "execution_count": null,
      "outputs": []
    },
    {
      "cell_type": "code",
      "source": [
        "#How can we replace or add the items from the tuple\n",
        "# we need to convert the tuple into list\n",
        "t_l = list(t1)\n",
        "print(t_l)"
      ],
      "metadata": {
        "id": "x1eWujW2he9J"
      },
      "execution_count": null,
      "outputs": []
    },
    {
      "cell_type": "code",
      "source": [
        "l_t = tuple(t_l)\n",
        "print(l_t)"
      ],
      "metadata": {
        "id": "hHHH1HN0hhEy"
      },
      "execution_count": null,
      "outputs": []
    },
    {
      "cell_type": "code",
      "source": [
        "#Tuples are faster than the list beacuse tuples are immutable means tuples are having fixed memory size\n",
        "#When we need to use tuple and list?\n",
        "#Tuple are used to store valuable information where we won't do any changes to that data\n",
        "#List is used when we need to manipulate the data"
      ],
      "metadata": {
        "id": "Bij0D-LtGVV9"
      },
      "execution_count": null,
      "outputs": []
    },
    {
      "cell_type": "markdown",
      "source": [
        "*** SET***"
      ],
      "metadata": {
        "id": "tX6j1xkmGcQO"
      }
    },
    {
      "cell_type": "code",
      "source": [
        "#What is a set and how can we define a set?\n",
        "#set can be decalred in ---> {}\n",
        "#set are defined as ---> unordered, immutable, and won't allow the duplicates"
      ],
      "metadata": {
        "id": "vuKxGcpDGfwo"
      },
      "execution_count": null,
      "outputs": []
    },
    {
      "cell_type": "markdown",
      "source": [
        "sets won't allow the duplicates"
      ],
      "metadata": {
        "id": "6d23nQvEGk4-"
      }
    },
    {
      "cell_type": "code",
      "source": [
        "s1 = {1,2,3,4,5,2,3,4,5,9}\n",
        "#what is the length of the above set?\n",
        "print(len(s1))\n",
        "print(s1)"
      ],
      "metadata": {
        "id": "a6MajAEHGjdU"
      },
      "execution_count": null,
      "outputs": []
    },
    {
      "cell_type": "markdown",
      "source": [
        "sets unordered"
      ],
      "metadata": {
        "id": "xUthkpQKGvEo"
      }
    },
    {
      "cell_type": "code",
      "source": [
        "#what is unordered?\n",
        "#unordered means the elements in the set doesn't have index position numbers\n",
        "s2={\"apple\",\"banana\",\"pineapple\",\"apple\",\"watermelon\"}\n",
        "#print the \"pineapple\" from the above set.\n",
        "print(s2[2])   #'set' object is not subscriptable bcz set doesn't have index position number\n"
      ],
      "metadata": {
        "id": "AtYSzxWQGtZE"
      },
      "execution_count": null,
      "outputs": []
    },
    {
      "cell_type": "markdown",
      "source": [
        "sets immutable"
      ],
      "metadata": {
        "id": "kFNSEwXEG3cG"
      }
    },
    {
      "cell_type": "code",
      "source": [
        "#In sets we can add the items and we can remove the items but we cannot replace the elements in the set\n",
        "s2={\"apple\",\"banana\",\"pineapple\",\"apple\",\"watermelon\"}\n",
        "s2[3] = \"muskmelon\"\n",
        "print(s2)  #'set' object does not support item assignment\n"
      ],
      "metadata": {
        "id": "Zx6TmdmSG4rL"
      },
      "execution_count": null,
      "outputs": []
    },
    {
      "cell_type": "markdown",
      "source": [
        "add items in the set"
      ],
      "metadata": {
        "id": "Pv_9RBHDG9xr"
      }
    },
    {
      "cell_type": "code",
      "source": [
        "#add()\n",
        "#add \"muskmealon\" in the s2\n",
        "s2.add('muskmealon')\n",
        "print(s2)"
      ],
      "metadata": {
        "id": "A0fJzTpFHB7q"
      },
      "execution_count": null,
      "outputs": []
    },
    {
      "cell_type": "code",
      "source": [
        "#can we insert a element at particular index position?\n",
        "#No"
      ],
      "metadata": {
        "id": "gZweT9s9HEs5"
      },
      "execution_count": null,
      "outputs": []
    },
    {
      "cell_type": "code",
      "source": [
        "print(dir(s2))"
      ],
      "metadata": {
        "id": "dIDPeyS9HILp"
      },
      "execution_count": null,
      "outputs": []
    },
    {
      "cell_type": "code",
      "source": [
        "#How can we add the multiple items into set at a time?\n",
        "# By Using the \"update()\" we can add multiple items in to set\n",
        "l1 = [1,2,3,4,5,6]\n",
        "s3= {'apple', 'muskmealon', 'pineapple', 'banana', 'watermelon'}\n",
        "s3.update(l1)\n",
        "print(s3)"
      ],
      "metadata": {
        "id": "lRhrMO9dHKgX"
      },
      "execution_count": null,
      "outputs": []
    },
    {
      "cell_type": "markdown",
      "source": [
        "remove the items from the set"
      ],
      "metadata": {
        "id": "TA4NGLKOHOKp"
      }
    },
    {
      "cell_type": "code",
      "source": [
        "#pop() this method is not preferable in sets\n",
        "s4= {1, 2, 3, 4, 5, 6, 'watermelon', 'apple', 'muskmealon', 'pineapple', 'banana'}\n",
        "s4.pop()\n",
        "print(s4)"
      ],
      "metadata": {
        "id": "vIRFAzsjHSDM"
      },
      "execution_count": null,
      "outputs": []
    },
    {
      "cell_type": "code",
      "source": [
        "s4.pop()"
      ],
      "metadata": {
        "id": "rZi2JZigHVt4"
      },
      "execution_count": null,
      "outputs": []
    },
    {
      "cell_type": "code",
      "source": [
        "#remove('item_name')\n",
        "s4.remove('muskmealon')\n",
        "print(s4)"
      ],
      "metadata": {
        "id": "wL6VkRt6HYTV"
      },
      "execution_count": null,
      "outputs": []
    },
    {
      "cell_type": "code",
      "source": [
        "#discard('item_name')\n",
        "s4.discard('banana')\n",
        "print(s4)"
      ],
      "metadata": {
        "id": "PtQUAMEuHbkB"
      },
      "execution_count": null,
      "outputs": []
    },
    {
      "cell_type": "code",
      "source": [
        "#what is the difference between remove and discard?\n",
        "\"\"\"when we use \"remove()\" if the items exist in set then it wont rise an error,other wise itthroughs an error\n",
        "when we use \"discard\" even if the item exist or not it won't show an error\"\"\"\n",
        "\n",
        "s4.remove('banana')\n",
        "print(s4)"
      ],
      "metadata": {
        "id": "1AzuFB2-HebA"
      },
      "execution_count": null,
      "outputs": []
    },
    {
      "cell_type": "code",
      "source": [
        "s4.discard('banana')\n",
        "print(s4)"
      ],
      "metadata": {
        "id": "vaQB5SMIHjvw"
      },
      "execution_count": null,
      "outputs": []
    },
    {
      "cell_type": "code",
      "source": [
        "#Note:-we cannot delete multiple items at a time in set.\n",
        "#clear()\n",
        "s4.clear()\n",
        "print(s4)"
      ],
      "metadata": {
        "id": "nhrt1xC1HlsA"
      },
      "execution_count": null,
      "outputs": []
    },
    {
      "cell_type": "code",
      "source": [
        "del s4\n",
        "print(s4)"
      ],
      "metadata": {
        "id": "-MxkM0RTHo56"
      },
      "execution_count": null,
      "outputs": []
    },
    {
      "cell_type": "code",
      "source": [
        "#why sets are faster then the list and tuple?\n",
        "#Bcz set is unordered and immutable\n",
        "#set are used in matrix operations"
      ],
      "metadata": {
        "id": "PFS2LZDsHsF6"
      },
      "execution_count": null,
      "outputs": []
    },
    {
      "cell_type": "code",
      "source": [
        "s1 = {'a','b','c','d'}\n",
        "s2 = {'d','e','f','g'}\n",
        "s = s1.union(s2)\n",
        "print(s)"
      ],
      "metadata": {
        "id": "XajmcUBeHuVT"
      },
      "execution_count": null,
      "outputs": []
    },
    {
      "cell_type": "code",
      "source": [
        "#print the common data elements from 2 sets\n",
        "s = s1.intersection(s2)\n",
        "print(s)"
      ],
      "metadata": {
        "id": "kWe6qzVtH-zn"
      },
      "execution_count": null,
      "outputs": []
    },
    {
      "cell_type": "markdown",
      "source": [
        "Dictionary"
      ],
      "metadata": {
        "id": "O3r4XrzhIEEs"
      }
    },
    {
      "cell_type": "code",
      "source": [
        "#what is dictionary? or How can you define an dictionarey\n",
        "#dictionary ---> {}\n",
        "#dictinary is defined as unordered, muttable, it wont allow the duplicates\n",
        "#How can we store items in the dictionary?\n",
        "# Key: value pair\n"
      ],
      "metadata": {
        "id": "yliATmyBIE0L"
      },
      "execution_count": null,
      "outputs": []
    },
    {
      "cell_type": "markdown",
      "source": [
        "dictionary won't allow the duplicates"
      ],
      "metadata": {
        "id": "SFFG57wJIL-L"
      }
    },
    {
      "cell_type": "code",
      "source": [
        "d1 = {\n",
        "    'Name':'shahul',\n",
        "    'education': 'Ms',\n",
        "    'occupation': 'DS',\n",
        "    'education':'B.Tech'\n",
        "}\n",
        "print(len(d1))\n",
        "print(d1)"
      ],
      "metadata": {
        "id": "xOIwNof5IKeV"
      },
      "execution_count": null,
      "outputs": []
    },
    {
      "cell_type": "markdown",
      "source": [
        "dictionary is unoredred"
      ],
      "metadata": {
        "id": "24vo4LoFIZJ4"
      }
    },
    {
      "cell_type": "code",
      "source": [
        "print(d1[2])"
      ],
      "metadata": {
        "id": "rj-scC-FIgBw"
      },
      "execution_count": null,
      "outputs": []
    },
    {
      "cell_type": "code",
      "source": [
        "#How can we access the items from the dictionary?\n",
        "#By using the key names\n",
        "d1['occupation']\n",
        "d1['Name']"
      ],
      "metadata": {
        "id": "WNO5XMyuIS5l"
      },
      "execution_count": null,
      "outputs": []
    },
    {
      "cell_type": "markdown",
      "source": [
        "dictionary is mutable"
      ],
      "metadata": {
        "id": "7ke1Zo9cIiyy"
      }
    },
    {
      "cell_type": "code",
      "source": [
        "#Add items to the dictionary\n",
        "#add your fav  bike\n",
        "d1['bike'] = 'RE'\n",
        "print(d1)"
      ],
      "metadata": {
        "id": "W2t7oXUZIm9Z"
      },
      "execution_count": null,
      "outputs": []
    },
    {
      "cell_type": "markdown",
      "source": [
        "replace the items from the dictionary"
      ],
      "metadata": {
        "id": "jg-pAFG5ItXc"
      }
    },
    {
      "cell_type": "code",
      "source": [
        "d1['Name'] = 'sks'\n",
        "print(d1)"
      ],
      "metadata": {
        "id": "VVOBdFwcIxtD"
      },
      "execution_count": null,
      "outputs": []
    },
    {
      "cell_type": "markdown",
      "source": [
        "remove the items from the dictionary"
      ],
      "metadata": {
        "id": "jaEhINYgI6SX"
      }
    },
    {
      "cell_type": "code",
      "source": [
        "#Pop('key_name)\n",
        "d1.pop('bike')\n",
        "print(d1)"
      ],
      "metadata": {
        "id": "O5XAf6SiIqny"
      },
      "execution_count": null,
      "outputs": []
    },
    {
      "cell_type": "code",
      "source": [
        "#clear()\n",
        "d1.clear()\n",
        "print(d1)"
      ],
      "metadata": {
        "id": "ryF9XhJ2JGZg"
      },
      "execution_count": null,
      "outputs": []
    },
    {
      "cell_type": "code",
      "source": [
        "d2 = {\n",
        "    'Name':'shahul',\n",
        "    'education': 'Ms',\n",
        "    'occupation': 'DS',\n",
        "    'education':'B.Tech',\n",
        "    'fruits' : ['apple','mango','banana','kiwi']\n",
        "}\n",
        "#in  above dict print only apple\n",
        "print(d2['fruits'][0])"
      ],
      "metadata": {
        "id": "_iVbNPSsJHFs"
      },
      "execution_count": null,
      "outputs": []
    },
    {
      "cell_type": "code",
      "source": [
        "#replace the \"kiwi\" with 'dragonfruit'\n",
        "d2['fruits'][3] = 'Dragon_fruits'\n",
        "print(d2)"
      ],
      "metadata": {
        "id": "6n75cIQ7JM8s"
      },
      "execution_count": null,
      "outputs": []
    },
    {
      "cell_type": "code",
      "source": [
        "print(dir(d1))"
      ],
      "metadata": {
        "id": "PqIUoZpqJPoT"
      },
      "execution_count": null,
      "outputs": []
    },
    {
      "cell_type": "code",
      "source": [
        "#print only the keys from above dict?\n",
        "print(d2.keys())\n",
        "print(d2.values())"
      ],
      "metadata": {
        "id": "SVa-GJ0bJQW4"
      },
      "execution_count": null,
      "outputs": []
    },
    {
      "cell_type": "code",
      "source": [
        "print(d2)\n",
        "print(d2.items())"
      ],
      "metadata": {
        "id": "Xc5ewg3bJVHG"
      },
      "execution_count": null,
      "outputs": []
    },
    {
      "cell_type": "code",
      "source": [
        "del d2\n",
        "print(d2)"
      ],
      "metadata": {
        "id": "DNWzJn7AJYC9"
      },
      "execution_count": null,
      "outputs": []
    },
    {
      "cell_type": "code",
      "source": [
        "def max_of_three (x,y,z):\n",
        " print(x,y,z)\n",
        "max_of_three(10,20,30)"
      ],
      "metadata": {
        "id": "6cfrwJ7lym-N",
        "colab": {
          "base_uri": "https://localhost:8080/"
        },
        "outputId": "c5aade76-9401-4293-eb89-4ab991a548eb"
      },
      "execution_count": null,
      "outputs": [
        {
          "output_type": "stream",
          "name": "stdout",
          "text": [
            "10 20 30\n"
          ]
        }
      ]
    },
    {
      "cell_type": "code",
      "source": [
        "def sum_of a [7,9,11,14]\n",
        "print(7,9,11,14)\n",
        "sum_of"
      ],
      "metadata": {
        "id": "MwFLTvlrzqjZ"
      },
      "execution_count": null,
      "outputs": []
    },
    {
      "cell_type": "markdown",
      "source": [
        "*** Revision***"
      ],
      "metadata": {
        "id": "XqU5HPmVMF1q"
      }
    },
    {
      "cell_type": "code",
      "source": [
        "   #Revision\n",
        "\n",
        "1. What is Python?\n",
        "\n",
        "most emerging ,general purpose, highlevel dynamically typed , OOP's, interpreted programming language\n",
        "\n",
        "2. why comments are important?\n",
        "\n",
        "for better understanding purpose we use comment\n",
        "\n",
        "there 2 types of comments\n",
        "\n",
        "1. single line comment----> #\n",
        "2. multiline comment--->  \"\"\" \"\"\" or ''' '''\n",
        "\n",
        "3. how many types of numerical dtypes?\n",
        "\n",
        "     1. integer\n",
        "     2. float\n",
        "     3. complex number--->    2+5j\n",
        "\n",
        "4. arthametic operators---> 7types\n",
        "\n",
        "   --> +,-,*,/,%,**(exponenetial or tothe power off),//(floor division)\n",
        "\n",
        "5. round()--->round() can be applicable for decimal number or float data types\n",
        "\n",
        "6. Variable--> is acontiner where we can store our valuable information\n",
        "\n",
        "      -->Rules\n",
        "\n",
        "\n",
        " 7. INPUT():- is a inbuilt function used to store any kind of information from user\n",
        "\n",
        "         --> the default dtype of input is string\n",
        "\n",
        "\n",
        " 8. what is an string?\n",
        "\n",
        "         --> string is sequence of characters where each character can be accessible\n",
        "         how can we access the characters?\n",
        "         --> By using indexing and slicing operator---> []\n",
        "         what is indexing?\n",
        "         --> positional number of each character\n",
        "         --> string is ordered--> the characters is having the\n",
        "         sequence of index position numbers\n",
        "\n",
        "  9. what is an object oriented programming language?--->oop's\n",
        "\n",
        "--> In python each line of code is having its own \"identity\",\"properties\", \"methods of interaction\"\n"
      ],
      "metadata": {
        "id": "gn5sCAm19rXY"
      },
      "execution_count": null,
      "outputs": []
    },
    {
      "cell_type": "code",
      "source": [
        "print(10/3)\n",
        "print(10//3)"
      ],
      "metadata": {
        "id": "tiv0UFPPegcJ"
      },
      "execution_count": null,
      "outputs": []
    },
    {
      "cell_type": "code",
      "source": [
        "print(round(3.554789,2))\n",
        "#the count decimal numbers after the decimal point is known as ndigits"
      ],
      "metadata": {
        "id": "DA5XZUPPenqS"
      },
      "execution_count": null,
      "outputs": []
    },
    {
      "cell_type": "code",
      "source": [
        "_ = \"hel36346573@%43lo\""
      ],
      "metadata": {
        "id": "NHZwlJrCeuz2"
      },
      "execution_count": null,
      "outputs": []
    },
    {
      "cell_type": "code",
      "source": [
        "a = input(\"enter number: \")\n",
        "print(a)\n",
        "print(type(a))"
      ],
      "metadata": {
        "id": "kHJ9HGbgeyVY"
      },
      "execution_count": null,
      "outputs": []
    },
    {
      "cell_type": "code",
      "source": [
        "a = \"Hello\"\n",
        "print(a[4])\n",
        "print(a[-1])\n",
        "print(dir(a))\n",
        "print(a.lower())\n",
        "print(a.upper())\n",
        "print(a.replace('Hello','Hi'))"
      ],
      "metadata": {
        "id": "OdeIQ58pe1cP"
      },
      "execution_count": null,
      "outputs": []
    },
    {
      "cell_type": "markdown",
      "source": [
        "**String Formatting method**"
      ],
      "metadata": {
        "id": "a-H-bJlofeaJ"
      }
    },
    {
      "cell_type": "code",
      "source": [
        "#what is a string formatting method?\n",
        "#it takes an argument and place over place-holder-->{}\n",
        "age = 10\n",
        "txt = f\"I am {age} years old\"  #f'string formatting {method}'\n",
        "print(txt)"
      ],
      "metadata": {
        "id": "9sAGUYzRfXnn"
      },
      "execution_count": null,
      "outputs": []
    },
    {
      "cell_type": "code",
      "source": [
        "item = input(\"enter item name: \")\n",
        "price_each = int(input(\"enter price: \"))\n",
        "quantity = int(input(\"enter the total quantity \"))\n",
        "Notification = f\"your order for {item}, has been confirmed, with an quantity of {quantity} and Total price {price_each*quantity}\"\n",
        "print(Notification)"
      ],
      "metadata": {
        "id": "8Jawv47gfzpS"
      },
      "execution_count": null,
      "outputs": []
    },
    {
      "cell_type": "markdown",
      "source": [
        "***escape characters***"
      ],
      "metadata": {
        "id": "a3RzoBj1f87c"
      }
    },
    {
      "cell_type": "code",
      "source": [
        "#when we want to print illegal characters (\" \" or  ' ') along with the string we use escape characters\n",
        "#escape characters can be decalred in backward slash (\\)\n",
        "a = \"Dywane \\\"The Rock\\\" Johnson\"\n",
        "print(a)"
      ],
      "metadata": {
        "id": "uIUVVDI-f1Ed",
        "colab": {
          "base_uri": "https://localhost:8080/"
        },
        "outputId": "4cdd985c-34f2-4b47-ea5a-d7d7dcf3263a"
      },
      "execution_count": null,
      "outputs": [
        {
          "output_type": "stream",
          "name": "stdout",
          "text": [
            "Dywane \"The Rock\" Johnson\n"
          ]
        }
      ]
    },
    {
      "cell_type": "code",
      "source": [
        "son2age = 20"
      ],
      "metadata": {
        "id": "ulP2INTSilZx"
      },
      "execution_count": null,
      "outputs": []
    },
    {
      "cell_type": "code",
      "source": [
        "user_input = input(\"Enter a number: \");\n",
        "print(\"You entered: \", int(user_input))\n"
      ],
      "metadata": {
        "id": "n65x7SeeikW7",
        "colab": {
          "base_uri": "https://localhost:8080/"
        },
        "outputId": "9d3039bc-db93-472c-b4b7-0e773cbd1de4"
      },
      "execution_count": null,
      "outputs": [
        {
          "output_type": "stream",
          "name": "stdout",
          "text": [
            "Enter a number: 100\n",
            "You entered:  100\n"
          ]
        }
      ]
    },
    {
      "cell_type": "code",
      "source": [
        "\n",
        "#What will be printed when the following executes?\n",
        "str = \"His shirt is red\"\n",
        "pos = str.find(\"is\")\n",
        "print(pos)"
      ],
      "metadata": {
        "id": "rkOIhZl-ish9"
      },
      "execution_count": null,
      "outputs": []
    },
    {
      "cell_type": "code",
      "source": [
        "#what is range()?\n",
        "#it is a inbuilt function used to print range of numbers\n",
        "for i in range(10):\n",
        "  print(i,end = \",\") #end act as a delimeter which means it separates each data item with some characters"
      ],
      "metadata": {
        "id": "2oLL1DxaiuQF"
      },
      "execution_count": null,
      "outputs": []
    },
    {
      "cell_type": "code",
      "source": [
        "#print the range of numbers start from 1 to 20\n",
        "#range(start,end)--> end is always n+1\n",
        "for h in range(1,21):\n",
        "  print(h,end=\" \")"
      ],
      "metadata": {
        "id": "zeaKTNBJkqba"
      },
      "execution_count": null,
      "outputs": []
    },
    {
      "cell_type": "code",
      "source": [
        "#print the range of even numbers from 20 to 100\n",
        "#range(start,end,step)\n",
        "for i in range(20,101,2):\n",
        "  print(i,end =\" \")"
      ],
      "metadata": {
        "colab": {
          "base_uri": "https://localhost:8080/"
        },
        "id": "dMoExzEzj8og",
        "outputId": "dcd4da38-2212-4d6e-9eb1-ea86ebced1c1"
      },
      "execution_count": null,
      "outputs": [
        {
          "output_type": "stream",
          "name": "stdout",
          "text": [
            "20 22 24 26 28 30 32 34 36 38 40 42 44 46 48 50 52 54 56 58 60 62 64 66 68 70 72 74 76 78 80 82 84 86 88 90 92 94 96 98 100 "
          ]
        }
      ]
    },
    {
      "cell_type": "code",
      "source": [
        "#calculate the sum of numbers from 1 to 10 by using loops?\n",
        "sum = 0\n",
        "for i in range(1,11):\n",
        "  sum = sum + i\n",
        "print(i)"
      ],
      "metadata": {
        "id": "Iz3zX-4lwajB"
      },
      "execution_count": null,
      "outputs": []
    },
    {
      "cell_type": "code",
      "source": [
        "#2.print the numbers in reverse from 10 to 1 by using the loops?\n",
        "for i in range(10,0,-1):\n",
        "  print(i,end=\" \")"
      ],
      "metadata": {
        "id": "meRHe_nZ4TWn"
      },
      "execution_count": null,
      "outputs": []
    },
    {
      "cell_type": "code",
      "source": [
        "#3. print the string characters by using the loops in separate line?\n",
        "h = \"Hello World!\"\n",
        "for i in h:\n",
        "  print(i)"
      ],
      "metadata": {
        "id": "Kl9gvnTL4rwL"
      },
      "execution_count": null,
      "outputs": []
    },
    {
      "cell_type": "code",
      "source": [
        "#4.print all upper case letters in a string using a for loop?\n",
        "string = \"Hello World\"\n",
        "for i in string:\n",
        "  print(i.upper(),end=\"\")\n"
      ],
      "metadata": {
        "id": "NerWtmgh5bO5"
      },
      "execution_count": null,
      "outputs": []
    },
    {
      "cell_type": "code",
      "source": [
        "#5.Count the number of vowerls in a string?\n",
        "d = \"Hello World\"\n",
        "vowels = \"AEIOUaeiou\"\n",
        "count = 0 #store the count of vowels\n",
        "for i in d:\n",
        "  if i in vowels:\n",
        "    count = count + 1\n",
        "print(count)"
      ],
      "metadata": {
        "id": "jMcwWo9u58Ce"
      },
      "execution_count": null,
      "outputs": []
    },
    {
      "cell_type": "code",
      "source": [
        "#6.print a pattern of stars * using the nested for loop?\n",
        "for i in range(5):   #length of i is 5\n",
        "  #print('*',end=\" \")\n",
        "  for j in range(i+1): #this will help you print the \"*\" in increasing order\n",
        "    print(\"*\",end=\"\")\n",
        "  print()\n"
      ],
      "metadata": {
        "id": "PiIQp15wn7JA"
      },
      "execution_count": null,
      "outputs": []
    },
    {
      "cell_type": "code",
      "source": [
        "#7.find the factorials of the numbers?\n",
        "# 5-->     1*2*3*4*5\n",
        "#both for loop and while\n",
        "fact = 1\n",
        "for i in range(1,6):\n",
        "  fact = fact * i\n",
        "  print(fact)"
      ],
      "metadata": {
        "id": "frBU1MebodRj"
      },
      "execution_count": null,
      "outputs": []
    },
    {
      "cell_type": "code",
      "source": [
        "start = 1\n",
        "sum = 0\n",
        "while start <= 10:\n",
        "  sum = sum +start\n",
        "  start = start + 1\n",
        "print(sum)"
      ],
      "metadata": {
        "id": "Rqk5WC7U2Cpj"
      },
      "execution_count": null,
      "outputs": []
    },
    {
      "cell_type": "markdown",
      "source": [
        "*** collection ***"
      ],
      "metadata": {
        "id": "0MIM1nLm2Gk5"
      }
    },
    {
      "cell_type": "code",
      "source": [
        "#How many types of collections?\n",
        "# 4types\n",
        "#1. list\n",
        "#2. tuple\n",
        "#3. set\n",
        "#4. dictionary"
      ],
      "metadata": {
        "id": "TsOEI3qK2Cc8"
      },
      "execution_count": null,
      "outputs": []
    },
    {
      "cell_type": "code",
      "source": [
        "#collection store two types of data\n",
        "#1. Homogenous data\n",
        "#2. Heterogenous data\n",
        "#what is homogenous collection?\n",
        "#collection of same data types is known as homogenous data\n",
        "#what is heterogenous data?\n",
        "#collection of multiple dtypes is known as heterogenous data"
      ],
      "metadata": {
        "id": "5z_BXdnB2CIr"
      },
      "execution_count": null,
      "outputs": []
    },
    {
      "cell_type": "markdown",
      "source": [
        "List"
      ],
      "metadata": {
        "id": "nkm0KR862mAh"
      }
    },
    {
      "cell_type": "code",
      "source": [
        "#what is a list and how can we decalre a list? or Define a list?\n",
        "#list --->[]\n",
        "#list is defined as ordered, muttable(changable), and it allows the duplicate data"
      ],
      "metadata": {
        "id": "eCRUy3zd2lmg"
      },
      "execution_count": null,
      "outputs": []
    },
    {
      "cell_type": "markdown",
      "source": [
        "allows the duplicate data"
      ],
      "metadata": {
        "id": "W1IuAMXS2sos"
      }
    },
    {
      "cell_type": "code",
      "source": [
        "l1 = ['python','java','Dot Net','C++',\"C\",\"R\",'python','java','NodeJS']\n",
        "print(len(l1))\n",
        "print(l1)"
      ],
      "metadata": {
        "id": "Xj9hKqwS2PUg"
      },
      "execution_count": null,
      "outputs": []
    },
    {
      "cell_type": "markdown",
      "source": [
        "list is ordered"
      ],
      "metadata": {
        "id": "l6SEjVdj3NTM"
      }
    },
    {
      "cell_type": "code",
      "source": [
        "l1 = ['python','java','Dot Net','C++',\"C\",\"R\",'python','java','NodeJS']\n",
        "#what is ordered?\n",
        "#if the items in the collection is having a sequence of index position numbers then the collection is ordered"
      ],
      "metadata": {
        "id": "2NX7_NQ23Jfo"
      },
      "execution_count": null,
      "outputs": []
    },
    {
      "cell_type": "code",
      "source": [
        "#[start]\n",
        "#print \"Dot Net\" from above list\n",
        "print(l1[2])\n",
        "#[start:end] #end is always n+1\n",
        "#print the 'C++',\"C\",\"R\"\n",
        "print(l1[3:6])\n",
        "#print the even index position characters\n",
        "#[start:end:step]\n",
        "print(l1[0:10:2])"
      ],
      "metadata": {
        "id": "vbfFt3NY3QTC"
      },
      "execution_count": null,
      "outputs": []
    },
    {
      "cell_type": "code",
      "source": [
        "#print the last character of the above string\n",
        "print(l1[-1])\n",
        "#print a range of characters by using -ve indexing\n",
        "print(l1[-4:-8:-1])"
      ],
      "metadata": {
        "id": "qCK7p3Vp5nJz"
      },
      "execution_count": null,
      "outputs": []
    },
    {
      "cell_type": "code",
      "source": [
        "print(l1[::2])\n",
        "#reverse the entire list\n",
        "print(l1[::-1])"
      ],
      "metadata": {
        "id": "JpaAomfi5nmb"
      },
      "execution_count": null,
      "outputs": []
    },
    {
      "cell_type": "markdown",
      "source": [
        "**List is Muttable**\n",
        "\n",
        "muttable means collection has to follow 3 properties\n",
        "1. replace or swap the items\n",
        "2. add new items\n",
        "3. remove the items"
      ],
      "metadata": {
        "id": "ibDqX5IS5ugZ"
      }
    },
    {
      "cell_type": "markdown",
      "source": [
        "*** replace or swap the items***"
      ],
      "metadata": {
        "id": "fXkbSjRB762k"
      }
    },
    {
      "cell_type": "code",
      "source": [
        "#how can replace the items in list?\n",
        "#by using the index position numbers\n",
        "l2 = ['apple','banana','kiwi','mango','orange','apple']\n",
        "#above list replace kiwi with watermelon\n",
        "l2[2] = 'watermelon'\n",
        "print(l2)\n"
      ],
      "metadata": {
        "id": "BOgBMkMc5vZ_"
      },
      "execution_count": null,
      "outputs": []
    },
    {
      "cell_type": "code",
      "source": [
        "#replace \"banana', 'watermelon', 'mango' with kiwi,lemon,grapes\"\n",
        "l2[1:4] = \"kiwi\",\"lemon\",\"grapes\"\n",
        "print(l2)"
      ],
      "metadata": {
        "id": "E0cVmytu8F8N"
      },
      "execution_count": null,
      "outputs": []
    },
    {
      "cell_type": "markdown",
      "source": [
        "add new items in list"
      ],
      "metadata": {
        "id": "3vWrCGaF8PkZ"
      }
    },
    {
      "cell_type": "code",
      "source": [
        "#dir()\n",
        "print(dir(l2))\n",
        "\"\"\"'append', 'clear', 'copy', 'count', 'extend', 'index', 'insert', 'pop',\n",
        "'remove', 'reverse', 'sort' \"\"\""
      ],
      "metadata": {
        "id": "82BWfCtZ8GHN"
      },
      "execution_count": null,
      "outputs": []
    },
    {
      "cell_type": "code",
      "source": [
        "l3 = ['apple', 'kiwi', 'lemon', 'grapes', 'orange', 'apple']\n",
        "#add \"banana\" to l3\n",
        "#append()\n",
        "#what is default index position when you use the append method?\n",
        "#at the end of the list\n",
        "l3.append('banana')\n",
        "print(l3)\n",
        "#Note we cannot add the multiple items by using the append method"
      ],
      "metadata": {
        "id": "A-C_Nw1s8VQ1"
      },
      "execution_count": null,
      "outputs": []
    },
    {
      "cell_type": "code",
      "source": [
        "#add the item at particular index position--> use insert(index,item_name)\n",
        "l3.insert(1,'dragon fruit')\n",
        "print(l3)\n",
        "#note:- we cannot add multiple items by using insert()#if i want to add the multiple items in above list\n",
        "#use 'extend()' by default the items can be added at end index position\n",
        "l4 = [1,2,3,4,5,6]\n",
        "#add the l4 into l3\n",
        "l3.extend(l4)"
      ],
      "metadata": {
        "id": "w5vBi8CY8VzY"
      },
      "execution_count": null,
      "outputs": []
    },
    {
      "cell_type": "markdown",
      "source": [
        "remove items from the list"
      ],
      "metadata": {
        "id": "6BZhDf5I9mi8"
      }
    },
    {
      "cell_type": "code",
      "source": [
        "#1.pop('index') or pop() by defalut remove the end item\n",
        "l5 = ['apple', 'dragon fruit', 'dragon fruit', 'kiwi', 'lemon', 'grapes', 'orange', 'apple', 'banana', 1, 2, 3, 4, 5, 6]\n",
        "l5.pop()\n",
        "print(l5)"
      ],
      "metadata": {
        "id": "BXa-8Ui98lCI"
      },
      "execution_count": null,
      "outputs": []
    },
    {
      "cell_type": "code",
      "source": [
        "#remove(item_name)\n",
        "l5.remove('dragon fruit')\n",
        "print(l5)\n",
        "#we cannot remove the multiple items at a time by using reve()"
      ],
      "metadata": {
        "id": "8c4tM2ls8lKe"
      },
      "execution_count": null,
      "outputs": []
    },
    {
      "cell_type": "code",
      "source": [
        "#del collection_name[start:end]\n",
        "del l5[7:12]\n",
        "print(l5)"
      ],
      "metadata": {
        "id": "LVMTSdAJ8WR2"
      },
      "execution_count": null,
      "outputs": []
    },
    {
      "cell_type": "code",
      "source": [
        "#clear the items from the list and print the empty list\n",
        "l5.clear()\n",
        "print(l5)"
      ],
      "metadata": {
        "id": "Sr0OoXSV8Wbq"
      },
      "execution_count": null,
      "outputs": []
    },
    {
      "cell_type": "code",
      "source": [
        "#delete the entire list\n",
        "del l5\n",
        "print(l5)"
      ],
      "metadata": {
        "id": "tznbSPdh-qlB"
      },
      "execution_count": null,
      "outputs": []
    },
    {
      "cell_type": "markdown",
      "source": [
        "tuple"
      ],
      "metadata": {
        "id": "zodI6tcq_Fu2"
      }
    },
    {
      "cell_type": "code",
      "source": [
        "#what is tuple or define tuple?\n",
        "#Tuple:-()\n",
        "#tuple is defined as 'ordered', immutable, allows the duplicates"
      ],
      "metadata": {
        "id": "-AW6HpVV_Clo"
      },
      "execution_count": null,
      "outputs": []
    },
    {
      "cell_type": "markdown",
      "source": [
        "tuple allows the duplicates"
      ],
      "metadata": {
        "id": "3ZrrP5P9_LpK"
      }
    },
    {
      "cell_type": "code",
      "source": [
        "t1 = ('apple', 'kiwi', 'lemon', 'grapes', 'apple', 'banana')\n",
        "print(t1)\n",
        "print(type(t1))\n",
        "print(len(t1))"
      ],
      "metadata": {
        "id": "ah2A8nTL_C5z"
      },
      "execution_count": null,
      "outputs": []
    },
    {
      "cell_type": "markdown",
      "source": [
        "tuple is ordered"
      ],
      "metadata": {
        "id": "43ZS9RaA_pnp"
      }
    },
    {
      "cell_type": "code",
      "source": [
        "print(t1[0])\n",
        "print(t1[2:5])\n",
        "print(t1[::-1])"
      ],
      "metadata": {
        "id": "3np8JHaq_DFB"
      },
      "execution_count": null,
      "outputs": []
    },
    {
      "cell_type": "markdown",
      "source": [
        "using the list() functions"
      ],
      "metadata": {
        "id": "ziHbMGDGDllR"
      }
    },
    {
      "cell_type": "code",
      "source": [
        "alist = ['a','b','c','d']\n",
        "blist = list(alist)\n",
        "print(blist)"
      ],
      "metadata": {
        "colab": {
          "base_uri": "https://localhost:8080/"
        },
        "id": "YpL4V3kdDiL3",
        "outputId": "2efb05ad-e41b-4c37-87b3-2ead705ada24"
      },
      "execution_count": null,
      "outputs": [
        {
          "output_type": "stream",
          "name": "stdout",
          "text": [
            "['a', 'b', 'c', 'd']\n"
          ]
        }
      ]
    },
    {
      "cell_type": "markdown",
      "source": [
        "using slicing([:])"
      ],
      "metadata": {
        "id": "OAVOUN2KD3nP"
      }
    },
    {
      "cell_type": "code",
      "source": [
        "blist = alist[:]\n",
        "print(blist)"
      ],
      "metadata": {
        "id": "ezyVUDJUESJL"
      },
      "execution_count": null,
      "outputs": []
    },
    {
      "cell_type": "markdown",
      "source": [
        "using the copy() method"
      ],
      "metadata": {
        "id": "szd4Ds30FbYD"
      }
    },
    {
      "cell_type": "code",
      "source": [
        "blist = alist.copy()\n",
        "print(blist)"
      ],
      "metadata": {
        "id": "SJjI32fuFmde"
      },
      "execution_count": null,
      "outputs": []
    },
    {
      "cell_type": "markdown",
      "source": [
        "using the list comprehension"
      ],
      "metadata": {
        "id": "G7SEqK3lFvYq"
      }
    },
    {
      "cell_type": "code",
      "source": [
        "blist = [i for i in alist]\n",
        "print(blist)"
      ],
      "metadata": {
        "colab": {
          "base_uri": "https://localhost:8080/"
        },
        "id": "-2ce7qBVFuQw",
        "outputId": "e63cabf6-28d6-4e7b-ef73-dabee06b2ad5"
      },
      "execution_count": null,
      "outputs": [
        {
          "output_type": "stream",
          "name": "stdout",
          "text": [
            "['a', 'b', 'c', 'd']\n"
          ]
        }
      ]
    },
    {
      "cell_type": "markdown",
      "source": [
        "**tuples are immutable**\n",
        "\n",
        "in tuple we cannot replace, add, remove the items from the tuple"
      ],
      "metadata": {
        "id": "lL4B_EfEAQTP"
      }
    },
    {
      "cell_type": "code",
      "source": [
        "l = list(t1)\n",
        "print(l)\n",
        "t2 = tuple(l)\n",
        "print(t2)"
      ],
      "metadata": {
        "id": "4bQN9yy4_DNB"
      },
      "execution_count": null,
      "outputs": []
    },
    {
      "cell_type": "code",
      "source": [
        "#find the minimum number in alist?\n",
        "list= [2,15,85,65,35,45,12,5,6,8,12,2,124]\n",
        "min = list[0]\n",
        "for i in list:\n",
        "  if min > i:\n",
        "    min = i\n",
        "print(min)"
      ],
      "metadata": {
        "id": "Tfiih9aW_DRu"
      },
      "execution_count": null,
      "outputs": []
    },
    {
      "cell_type": "code",
      "source": [
        "#find the maximum number in alist?\n",
        "list= [2,15,85,65,35,45,12,5,6,8,12,2,124]\n",
        "max = list[0]\n",
        "for i in list:\n",
        "  if max < i:\n",
        "    max = i\n",
        "print(max)"
      ],
      "metadata": {
        "id": "HGKzr6B8jwHt",
        "colab": {
          "base_uri": "https://localhost:8080/"
        },
        "outputId": "efc07c69-a236-4a82-b669-27fe2db1b328"
      },
      "execution_count": null,
      "outputs": [
        {
          "output_type": "stream",
          "name": "stdout",
          "text": [
            "124\n"
          ]
        }
      ]
    },
    {
      "cell_type": "code",
      "source": [
        "a = [10,35,29,78,46,58,63]\n",
        "#result = sum(l1)\n",
        "#print(result)\n",
        "sum = 0\n",
        "for i in a:\n",
        "  sum = sum+i\n",
        "  print(sum)"
      ],
      "metadata": {
        "id": "x7zGrhhTyLym"
      },
      "execution_count": null,
      "outputs": []
    },
    {
      "cell_type": "code",
      "source": [
        "# find the middle element in the list\n",
        "list =[1,2,3,4,5]\n",
        "mid =  int(len(list/2))\n",
        "print(list[mid])"
      ],
      "metadata": {
        "id": "qfeZtlcck9Zb"
      },
      "execution_count": null,
      "outputs": []
    },
    {
      "cell_type": "code",
      "source": [
        "str1 = \"Listen\"\n",
        "str2 = \"silent\"\n",
        "s1 = str1.lower()\n",
        "s2 = str2.lower()\n",
        "if len(s1) == len(s2):\n",
        "  #print('string in the smae length')\n",
        "  #sort the string\n",
        "  sort1 = sorted(s1)\n",
        "  sort2 = sorted(s2)\n",
        "  if sort1 == sort2:\n",
        "    print(f\"{str1} and {str2} are anagrams\")\n",
        "  else:\n",
        "    print(f\"{str1} and {str2} are not anagrams\")\n"
      ],
      "metadata": {
        "id": "2ZXYRXDqlyYB"
      },
      "execution_count": null,
      "outputs": []
    }
  ],
  "metadata": {
    "colab": {
      "provenance": [],
      "authorship_tag": "ABX9TyMcu1/eVZUdrBih5aZgEdfW",
      "include_colab_link": true
    },
    "kernelspec": {
      "display_name": "Python 3",
      "name": "python3"
    },
    "language_info": {
      "name": "python"
    }
  },
  "nbformat": 4,
  "nbformat_minor": 0
}